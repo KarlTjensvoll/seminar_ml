{
 "cells": [
  {
   "cell_type": "code",
   "execution_count": 1,
   "metadata": {},
   "outputs": [
    {
     "output_type": "stream",
     "name": "stderr",
     "text": [
      "/Users/karl/anaconda3/lib/python3.8/site-packages/sklearn/utils/deprecation.py:143: FutureWarning: The sklearn.utils.testing module is  deprecated in version 0.22 and will be removed in version 0.24. The corresponding classes / functions should instead be imported from sklearn.utils. Anything that cannot be imported from sklearn.utils is now part of the private API.\n  warnings.warn(message, FutureWarning)\n"
     ]
    }
   ],
   "source": [
    "import data_handler\n",
    "import machine_learning as ml\n",
    "import pandas as pd\n",
    "import numpy as np\n",
    "from matplotlib import pyplot as plt\n",
    "from mpl_toolkits.mplot3d import Axes3D\n",
    "\n",
    "import sklearn\n",
    "from sklearn import linear_model as linear\n",
    "from sklearn import model_selection\n",
    "from sklearn import metrics\n",
    "from sklearn.ensemble import GradientBoostingClassifier\n",
    "\n",
    "from tabulate import tabulate\n",
    "\n",
    "# These are notebook magix that reloads a function each time, so if I make a change in a .py file, it is automatically reloaded.\n",
    "%load_ext autoreload\n",
    "%autoreload 2"
   ]
  },
  {
   "cell_type": "markdown",
   "metadata": {},
   "source": [
    "## YOU NEED TO FIRST RUN THE TWO LAST CELLS. I HID THEM THERE SO THAT THEY DON'T USE SO MUCH SPACE."
   ]
  },
  {
   "cell_type": "code",
   "execution_count": 4,
   "metadata": {},
   "outputs": [],
   "source": [
    "def ohlson_data(year, column_names):\n",
    "    x_train, x_test, y_train, y_test = data_handler.load_data(year)\n",
    "    n = y_train.size\n",
    "    x_train.columns = column_names\n",
    "    x_test.columns = column_names\n",
    "\n",
    "    # Ohlson use a dummy if liabilites are greater than assets\n",
    "    x_train['liabilites > assets'] = (x_train[X02] > 1)*1.0\n",
    "    x_test['liabilites > assets'] = (x_test[X02] > 1)*1.0\n",
    "    X65 = ['liabilites > assets']\n",
    "\n",
    "    # Try to replicate the variables as closely as possible,\n",
    "    # some of the variables are inverted, but that should not affect\n",
    "    # the predictability, only the sign of the coefficient.\n",
    "    ohlson_var = X29 + X02 + X03 + X04 + X65 + X01 + X41 + X21\n",
    "    x_ohlson_train = x_train[ohlson_var]\n",
    "    x_ohlson_test = x_test[ohlson_var]\n",
    "    return x_ohlson_train, x_ohlson_test, y_train, y_test\n",
    "x_train, x_test, y_train, y_test = ohlson_data(5, column_names)"
   ]
  },
  {
   "cell_type": "code",
   "execution_count": 5,
   "metadata": {},
   "outputs": [
    {
     "name": "stdout",
     "output_type": "stream",
     "text": [
      "Confusion matrix from a LogisticRegression, with test-score of 0.244\n",
      "\n",
      "                Non-Bankrupt    Bankrupt\n",
      "------------  --------------  ----------\n",
      "Non-Bankrupt            1095           5\n",
      "Bankrupt                  79           3\n"
     ]
    }
   ],
   "source": [
    "logit = linear.LogisticRegression(penalty='none', max_iter=1000)\n",
    "ml.validate_model(logit, (x_train, y_train), (x_test, y_test)) ;"
   ]
  },
  {
   "cell_type": "markdown",
   "metadata": {},
   "source": [
    "# Elastic net"
   ]
  },
  {
   "cell_type": "code",
   "execution_count": 2,
   "metadata": {},
   "outputs": [],
   "source": [
    "# Load data set\n",
    "x_train, x_test, y_train, y_test = data_handler.load_data(5, out_frame=False)"
   ]
  },
  {
   "cell_type": "code",
   "execution_count": 1,
   "metadata": {},
   "outputs": [
    {
     "output_type": "error",
     "ename": "NameError",
     "evalue": "name 'linear' is not defined",
     "traceback": [
      "\u001b[0;31m---------------------------------------------------------------------------\u001b[0m",
      "\u001b[0;31mNameError\u001b[0m                                 Traceback (most recent call last)",
      "\u001b[0;32m<ipython-input-1-4ae8091be2e1>\u001b[0m in \u001b[0;36m<module>\u001b[0;34m\u001b[0m\n\u001b[0;32m----> 1\u001b[0;31m logit_elastic_net = linear.LogisticRegression(\n\u001b[0m\u001b[1;32m      2\u001b[0m     \u001b[0mpenalty\u001b[0m\u001b[0;34m=\u001b[0m\u001b[0;34m'elasticnet'\u001b[0m\u001b[0;34m,\u001b[0m\u001b[0;34m\u001b[0m\u001b[0;34m\u001b[0m\u001b[0m\n\u001b[1;32m      3\u001b[0m     \u001b[0msolver\u001b[0m\u001b[0;34m=\u001b[0m\u001b[0;34m'saga'\u001b[0m\u001b[0;34m,\u001b[0m\u001b[0;34m\u001b[0m\u001b[0;34m\u001b[0m\u001b[0m\n\u001b[1;32m      4\u001b[0m     \u001b[0mmax_iter\u001b[0m\u001b[0;34m=\u001b[0m\u001b[0;36m10000\u001b[0m\u001b[0;34m,\u001b[0m\u001b[0;34m\u001b[0m\u001b[0;34m\u001b[0m\u001b[0m\n\u001b[1;32m      5\u001b[0m     \u001b[0ml1_ratio\u001b[0m\u001b[0;34m=\u001b[0m\u001b[0;36m0.1\u001b[0m\u001b[0;34m\u001b[0m\u001b[0;34m\u001b[0m\u001b[0m\n",
      "\u001b[0;31mNameError\u001b[0m: name 'linear' is not defined"
     ]
    }
   ],
   "source": [
    "\n",
    "logit_elastic_net = linear.LogisticRegression(\n",
    "    penalty='elasticnet', \n",
    "    solver='saga',\n",
    "    max_iter=10000,\n",
    "    l1_ratio=0.1\n",
    ")\n",
    "\n",
    "# As fortran array makes sklearn faster.\n",
    "ml.validate_model(\n",
    "    logit_elastic_net, \n",
    "    (np.asfortranarray(x_train.to_numpy()), y_train.to_numpy()),\n",
    "    (x_test.to_numpy(), y_test.to_numpy())\n",
    ") ;"
   ]
  },
  {
   "cell_type": "code",
   "execution_count": 8,
   "metadata": {},
   "outputs": [],
   "source": [
    "parameters = {'C': [ 0.1, 0.5, 0.9], 'l1_ratio': [ 0.1, 0.5, 0.9]}\n",
    "logit_elastic_net = linear.LogisticRegression(\n",
    "    penalty='elasticnet', \n",
    "    solver='saga',\n",
    "    max_iter=100\n",
    ")\n",
    "grid_result = ml.search_hyperparameters(\n",
    "    logit_elastic_net, \n",
    "    parameters, \n",
    "    (x_train, y_train), \n",
    "    scoring='recall', \n",
    "    refit=True\n",
    ")"
   ]
  },
  {
   "cell_type": "code",
   "execution_count": 10,
   "metadata": {},
   "outputs": [],
   "source": [
    "def loop_over_scores(\n",
    "        func, parameters, x_train, y_train, scorer_list\n",
    "    ):\n",
    "    # Loop over different scorers, like recall, accuracy, etc.\n",
    "    # Use these different scorers to optimize the hyperparameters\n",
    "    # for the given ml algorithm, and then pass it to the \n",
    "    # grid_cv_reporter to get a nice overview of the results.\n",
    "    for scorer in scorer_list:\n",
    "        grid_result = ml.search_hyperparameters(\n",
    "            func, \n",
    "            parameters, \n",
    "            (x_train, y_train), \n",
    "            scoring=scorer, \n",
    "            refit=True\n",
    "        )\n",
    "        print(f'Results using {scorer} scorer:')\n",
    "        ml.grid_cv_report(grid_result, x_test, y_test)\n",
    "        print('-'*80)\n",
    "        print()\n",
    "    return grid_result"
   ]
  },
  {
   "cell_type": "code",
   "execution_count": 15,
   "metadata": {
    "tags": []
   },
   "outputs": [
    {
     "output_type": "stream",
     "name": "stdout",
     "text": [
      "Results using recall scorer:\nMachine learning estimator: LogisticRegression(max_iter=1000, penalty='elasticnet', solver='saga')\n\nSpecification                                                  mean score    cf - 5%    cf - 95%\n-----------------------------------------------------------  ------------  ---------  ----------\n{'C': 0.01, 'l1_ratio': 0.01}                                       0.049      0.020       0.078\n{'C': 0.01, 'l1_ratio': 0.11888888888888888}                        0.034      0.022       0.045\n{'C': 0.01, 'l1_ratio': 0.22777777777777777}                        0.034      0.022       0.045\n{'C': 0.01, 'l1_ratio': 0.33666666666666667}                        0.027      0.016       0.039\n{'C': 0.01, 'l1_ratio': 0.44555555555555554}                        0.024      0.010       0.039\n{'C': 0.01, 'l1_ratio': 0.5544444444444444}                         0.021     -0.002       0.045\n{'C': 0.01, 'l1_ratio': 0.6633333333333333}                         0.021     -0.002       0.045\n{'C': 0.01, 'l1_ratio': 0.7722222222222221}                         0.018     -0.004       0.041\n{'C': 0.01, 'l1_ratio': 0.8811111111111111}                         0.012      0.000       0.024\n{'C': 0.01, 'l1_ratio': 0.99}                                       0.009     -0.005       0.024\n{'C': 0.11888888888888888, 'l1_ratio': 0.01}                        0.073      0.050       0.096\n{'C': 0.11888888888888888, 'l1_ratio': 0.11888888888888888}         0.070      0.045       0.095\n{'C': 0.11888888888888888, 'l1_ratio': 0.22777777777777777}         0.070      0.045       0.095\n{'C': 0.11888888888888888, 'l1_ratio': 0.33666666666666667}         0.067      0.051       0.083\n{'C': 0.11888888888888888, 'l1_ratio': 0.44555555555555554}         0.067      0.051       0.083\n{'C': 0.11888888888888888, 'l1_ratio': 0.5544444444444444}          0.067      0.051       0.083\n{'C': 0.11888888888888888, 'l1_ratio': 0.6633333333333333}          0.067      0.051       0.083\n{'C': 0.11888888888888888, 'l1_ratio': 0.7722222222222221}          0.067      0.051       0.083\n{'C': 0.11888888888888888, 'l1_ratio': 0.8811111111111111}          0.067      0.051       0.083\n{'C': 0.11888888888888888, 'l1_ratio': 0.99}                        0.067      0.051       0.083\n{'C': 0.22777777777777777, 'l1_ratio': 0.01}                        0.076      0.057       0.096\n{'C': 0.22777777777777777, 'l1_ratio': 0.11888888888888888}         0.076      0.057       0.096\n{'C': 0.22777777777777777, 'l1_ratio': 0.22777777777777777}         0.073      0.050       0.096\n{'C': 0.22777777777777777, 'l1_ratio': 0.33666666666666667}         0.073      0.050       0.096\n{'C': 0.22777777777777777, 'l1_ratio': 0.44555555555555554}         0.073      0.050       0.096\n{'C': 0.22777777777777777, 'l1_ratio': 0.5544444444444444}          0.073      0.050       0.096\n{'C': 0.22777777777777777, 'l1_ratio': 0.6633333333333333}          0.073      0.050       0.096\n{'C': 0.22777777777777777, 'l1_ratio': 0.7722222222222221}          0.073      0.050       0.096\n{'C': 0.22777777777777777, 'l1_ratio': 0.8811111111111111}          0.073      0.050       0.096\n{'C': 0.22777777777777777, 'l1_ratio': 0.99}                        0.067      0.051       0.083\n{'C': 0.33666666666666667, 'l1_ratio': 0.01}                        0.076      0.057       0.096\n{'C': 0.33666666666666667, 'l1_ratio': 0.11888888888888888}         0.076      0.057       0.096\n{'C': 0.33666666666666667, 'l1_ratio': 0.22777777777777777}         0.076      0.057       0.096\n{'C': 0.33666666666666667, 'l1_ratio': 0.33666666666666667}         0.073      0.050       0.096\n{'C': 0.33666666666666667, 'l1_ratio': 0.44555555555555554}         0.073      0.050       0.096\n{'C': 0.33666666666666667, 'l1_ratio': 0.5544444444444444}          0.073      0.050       0.096\n{'C': 0.33666666666666667, 'l1_ratio': 0.6633333333333333}          0.073      0.050       0.096\n{'C': 0.33666666666666667, 'l1_ratio': 0.7722222222222221}          0.073      0.050       0.096\n{'C': 0.33666666666666667, 'l1_ratio': 0.8811111111111111}          0.073      0.050       0.096\n{'C': 0.33666666666666667, 'l1_ratio': 0.99}                        0.073      0.050       0.096\n{'C': 0.44555555555555554, 'l1_ratio': 0.01}                        0.076      0.057       0.096\n{'C': 0.44555555555555554, 'l1_ratio': 0.11888888888888888}         0.076      0.057       0.096\n{'C': 0.44555555555555554, 'l1_ratio': 0.22777777777777777}         0.076      0.057       0.096\n{'C': 0.44555555555555554, 'l1_ratio': 0.33666666666666667}         0.076      0.057       0.096\n{'C': 0.44555555555555554, 'l1_ratio': 0.44555555555555554}         0.073      0.050       0.096\n{'C': 0.44555555555555554, 'l1_ratio': 0.5544444444444444}          0.073      0.050       0.096\n{'C': 0.44555555555555554, 'l1_ratio': 0.6633333333333333}          0.073      0.050       0.096\n{'C': 0.44555555555555554, 'l1_ratio': 0.7722222222222221}          0.073      0.050       0.096\n{'C': 0.44555555555555554, 'l1_ratio': 0.8811111111111111}          0.073      0.050       0.096\n{'C': 0.44555555555555554, 'l1_ratio': 0.99}                        0.073      0.050       0.096\n{'C': 0.5544444444444444, 'l1_ratio': 0.01}                         0.076      0.057       0.096\n{'C': 0.5544444444444444, 'l1_ratio': 0.11888888888888888}          0.076      0.057       0.096\n{'C': 0.5544444444444444, 'l1_ratio': 0.22777777777777777}          0.076      0.057       0.096\n{'C': 0.5544444444444444, 'l1_ratio': 0.33666666666666667}          0.076      0.057       0.096\n{'C': 0.5544444444444444, 'l1_ratio': 0.44555555555555554}          0.073      0.050       0.096\n{'C': 0.5544444444444444, 'l1_ratio': 0.5544444444444444}           0.073      0.050       0.096\n{'C': 0.5544444444444444, 'l1_ratio': 0.6633333333333333}           0.073      0.050       0.096\n{'C': 0.5544444444444444, 'l1_ratio': 0.7722222222222221}           0.073      0.050       0.096\n{'C': 0.5544444444444444, 'l1_ratio': 0.8811111111111111}           0.073      0.050       0.096\n{'C': 0.5544444444444444, 'l1_ratio': 0.99}                         0.073      0.050       0.096\n{'C': 0.6633333333333333, 'l1_ratio': 0.01}                         0.076      0.057       0.096\n{'C': 0.6633333333333333, 'l1_ratio': 0.11888888888888888}          0.076      0.057       0.096\n{'C': 0.6633333333333333, 'l1_ratio': 0.22777777777777777}          0.076      0.057       0.096\n{'C': 0.6633333333333333, 'l1_ratio': 0.33666666666666667}          0.076      0.057       0.096\n{'C': 0.6633333333333333, 'l1_ratio': 0.44555555555555554}          0.076      0.057       0.096\n{'C': 0.6633333333333333, 'l1_ratio': 0.5544444444444444}           0.076      0.057       0.096\n{'C': 0.6633333333333333, 'l1_ratio': 0.6633333333333333}           0.073      0.050       0.096\n{'C': 0.6633333333333333, 'l1_ratio': 0.7722222222222221}           0.073      0.050       0.096\n{'C': 0.6633333333333333, 'l1_ratio': 0.8811111111111111}           0.073      0.050       0.096\n{'C': 0.6633333333333333, 'l1_ratio': 0.99}                         0.073      0.050       0.096\n{'C': 0.7722222222222221, 'l1_ratio': 0.01}                         0.076      0.057       0.096\n{'C': 0.7722222222222221, 'l1_ratio': 0.11888888888888888}          0.076      0.057       0.096\n{'C': 0.7722222222222221, 'l1_ratio': 0.22777777777777777}          0.076      0.057       0.096\n{'C': 0.7722222222222221, 'l1_ratio': 0.33666666666666667}          0.076      0.057       0.096\n{'C': 0.7722222222222221, 'l1_ratio': 0.44555555555555554}          0.076      0.057       0.096\n{'C': 0.7722222222222221, 'l1_ratio': 0.5544444444444444}           0.076      0.057       0.096\n{'C': 0.7722222222222221, 'l1_ratio': 0.6633333333333333}           0.073      0.050       0.096\n{'C': 0.7722222222222221, 'l1_ratio': 0.7722222222222221}           0.073      0.050       0.096\n{'C': 0.7722222222222221, 'l1_ratio': 0.8811111111111111}           0.073      0.050       0.096\n{'C': 0.7722222222222221, 'l1_ratio': 0.99}                         0.073      0.050       0.096\n{'C': 0.8811111111111111, 'l1_ratio': 0.01}                         0.076      0.057       0.096\n{'C': 0.8811111111111111, 'l1_ratio': 0.11888888888888888}          0.076      0.057       0.096\n{'C': 0.8811111111111111, 'l1_ratio': 0.22777777777777777}          0.076      0.057       0.096\n{'C': 0.8811111111111111, 'l1_ratio': 0.33666666666666667}          0.076      0.057       0.096\n{'C': 0.8811111111111111, 'l1_ratio': 0.44555555555555554}          0.076      0.057       0.096\n{'C': 0.8811111111111111, 'l1_ratio': 0.5544444444444444}           0.076      0.057       0.096\n{'C': 0.8811111111111111, 'l1_ratio': 0.6633333333333333}           0.076      0.057       0.096\n{'C': 0.8811111111111111, 'l1_ratio': 0.7722222222222221}           0.073      0.050       0.096\n{'C': 0.8811111111111111, 'l1_ratio': 0.8811111111111111}           0.073      0.050       0.096\n{'C': 0.8811111111111111, 'l1_ratio': 0.99}                         0.073      0.050       0.096\n{'C': 0.99, 'l1_ratio': 0.01}                                       0.076      0.057       0.096\n{'C': 0.99, 'l1_ratio': 0.11888888888888888}                        0.076      0.057       0.096\n{'C': 0.99, 'l1_ratio': 0.22777777777777777}                        0.076      0.057       0.096\n{'C': 0.99, 'l1_ratio': 0.33666666666666667}                        0.076      0.057       0.096\n{'C': 0.99, 'l1_ratio': 0.44555555555555554}                        0.076      0.057       0.096\n{'C': 0.99, 'l1_ratio': 0.5544444444444444}                         0.079      0.057       0.102\n{'C': 0.99, 'l1_ratio': 0.6633333333333333}                         0.079      0.057       0.102\n{'C': 0.99, 'l1_ratio': 0.7722222222222221}                         0.079      0.057       0.102\n{'C': 0.99, 'l1_ratio': 0.8811111111111111}                         0.076      0.049       0.103\n{'C': 0.99, 'l1_ratio': 0.99}                                       0.076      0.049       0.103\n\n\nBest specification at {'C': 0.99, 'l1_ratio': 0.5544444444444444}:\n\n              precision    recall  f1-score   support\n\n           0      0.937     0.995     0.965      1100\n           1      0.571     0.098     0.167        82\n\n    accuracy                          0.932      1182\n   macro avg      0.754     0.546     0.566      1182\nweighted avg      0.911     0.932     0.909      1182\n\n\n"
     ]
    },
    {
     "output_type": "display_data",
     "data": {
      "text/plain": "<Figure size 432x288 with 1 Axes>",
      "image/svg+xml": "<?xml version=\"1.0\" encoding=\"utf-8\" standalone=\"no\"?>\n<!DOCTYPE svg PUBLIC \"-//W3C//DTD SVG 1.1//EN\"\n  \"http://www.w3.org/Graphics/SVG/1.1/DTD/svg11.dtd\">\n<!-- Created with matplotlib (https://matplotlib.org/) -->\n<svg height=\"262.19625pt\" version=\"1.1\" viewBox=\"0 0 390.45046 262.19625\" width=\"390.45046pt\" xmlns=\"http://www.w3.org/2000/svg\" xmlns:xlink=\"http://www.w3.org/1999/xlink\">\n <defs>\n  <style type=\"text/css\">\n*{stroke-linecap:butt;stroke-linejoin:round;}\n  </style>\n </defs>\n <g id=\"figure_1\">\n  <g id=\"patch_1\">\n   <path d=\"M 0 262.19625 \nL 390.45046 262.19625 \nL 390.45046 0 \nL 0 0 \nz\n\" style=\"fill:none;\"/>\n  </g>\n  <g id=\"axes_1\">\n   <g id=\"patch_2\">\n    <path d=\"M 43.78125 224.64 \nL 378.58125 224.64 \nL 378.58125 7.2 \nL 43.78125 7.2 \nz\n\" style=\"fill:#ffffff;\"/>\n   </g>\n   <g id=\"matplotlib.axis_1\">\n    <g id=\"xtick_1\">\n     <g id=\"line2d_1\">\n      <defs>\n       <path d=\"M 0 0 \nL 0 3.5 \n\" id=\"md7d670f134\" style=\"stroke:#000000;stroke-width:0.8;\"/>\n      </defs>\n      <g>\n       <use style=\"stroke:#000000;stroke-width:0.8;\" x=\"47.063603\" xlink:href=\"#md7d670f134\" y=\"224.64\"/>\n      </g>\n     </g>\n     <g id=\"text_1\">\n      <!-- 0.0 -->\n      <defs>\n       <path d=\"M 31.78125 66.40625 \nQ 24.171875 66.40625 20.328125 58.90625 \nQ 16.5 51.421875 16.5 36.375 \nQ 16.5 21.390625 20.328125 13.890625 \nQ 24.171875 6.390625 31.78125 6.390625 \nQ 39.453125 6.390625 43.28125 13.890625 \nQ 47.125 21.390625 47.125 36.375 \nQ 47.125 51.421875 43.28125 58.90625 \nQ 39.453125 66.40625 31.78125 66.40625 \nz\nM 31.78125 74.21875 \nQ 44.046875 74.21875 50.515625 64.515625 \nQ 56.984375 54.828125 56.984375 36.375 \nQ 56.984375 17.96875 50.515625 8.265625 \nQ 44.046875 -1.421875 31.78125 -1.421875 \nQ 19.53125 -1.421875 13.0625 8.265625 \nQ 6.59375 17.96875 6.59375 36.375 \nQ 6.59375 54.828125 13.0625 64.515625 \nQ 19.53125 74.21875 31.78125 74.21875 \nz\n\" id=\"DejaVuSans-48\"/>\n       <path d=\"M 10.6875 12.40625 \nL 21 12.40625 \nL 21 0 \nL 10.6875 0 \nz\n\" id=\"DejaVuSans-46\"/>\n      </defs>\n      <g transform=\"translate(39.11204 239.238437)scale(0.1 -0.1)\">\n       <use xlink:href=\"#DejaVuSans-48\"/>\n       <use x=\"63.623047\" xlink:href=\"#DejaVuSans-46\"/>\n       <use x=\"95.410156\" xlink:href=\"#DejaVuSans-48\"/>\n      </g>\n     </g>\n    </g>\n    <g id=\"xtick_2\">\n     <g id=\"line2d_2\">\n      <g>\n       <use style=\"stroke:#000000;stroke-width:0.8;\" x=\"112.710662\" xlink:href=\"#md7d670f134\" y=\"224.64\"/>\n      </g>\n     </g>\n     <g id=\"text_2\">\n      <!-- 0.2 -->\n      <defs>\n       <path d=\"M 19.1875 8.296875 \nL 53.609375 8.296875 \nL 53.609375 0 \nL 7.328125 0 \nL 7.328125 8.296875 \nQ 12.9375 14.109375 22.625 23.890625 \nQ 32.328125 33.6875 34.8125 36.53125 \nQ 39.546875 41.84375 41.421875 45.53125 \nQ 43.3125 49.21875 43.3125 52.78125 \nQ 43.3125 58.59375 39.234375 62.25 \nQ 35.15625 65.921875 28.609375 65.921875 \nQ 23.96875 65.921875 18.8125 64.3125 \nQ 13.671875 62.703125 7.8125 59.421875 \nL 7.8125 69.390625 \nQ 13.765625 71.78125 18.9375 73 \nQ 24.125 74.21875 28.421875 74.21875 \nQ 39.75 74.21875 46.484375 68.546875 \nQ 53.21875 62.890625 53.21875 53.421875 \nQ 53.21875 48.921875 51.53125 44.890625 \nQ 49.859375 40.875 45.40625 35.40625 \nQ 44.1875 33.984375 37.640625 27.21875 \nQ 31.109375 20.453125 19.1875 8.296875 \nz\n\" id=\"DejaVuSans-50\"/>\n      </defs>\n      <g transform=\"translate(104.759099 239.238437)scale(0.1 -0.1)\">\n       <use xlink:href=\"#DejaVuSans-48\"/>\n       <use x=\"63.623047\" xlink:href=\"#DejaVuSans-46\"/>\n       <use x=\"95.410156\" xlink:href=\"#DejaVuSans-50\"/>\n      </g>\n     </g>\n    </g>\n    <g id=\"xtick_3\">\n     <g id=\"line2d_3\">\n      <g>\n       <use style=\"stroke:#000000;stroke-width:0.8;\" x=\"178.357721\" xlink:href=\"#md7d670f134\" y=\"224.64\"/>\n      </g>\n     </g>\n     <g id=\"text_3\">\n      <!-- 0.4 -->\n      <defs>\n       <path d=\"M 37.796875 64.3125 \nL 12.890625 25.390625 \nL 37.796875 25.390625 \nz\nM 35.203125 72.90625 \nL 47.609375 72.90625 \nL 47.609375 25.390625 \nL 58.015625 25.390625 \nL 58.015625 17.1875 \nL 47.609375 17.1875 \nL 47.609375 0 \nL 37.796875 0 \nL 37.796875 17.1875 \nL 4.890625 17.1875 \nL 4.890625 26.703125 \nz\n\" id=\"DejaVuSans-52\"/>\n      </defs>\n      <g transform=\"translate(170.406158 239.238437)scale(0.1 -0.1)\">\n       <use xlink:href=\"#DejaVuSans-48\"/>\n       <use x=\"63.623047\" xlink:href=\"#DejaVuSans-46\"/>\n       <use x=\"95.410156\" xlink:href=\"#DejaVuSans-52\"/>\n      </g>\n     </g>\n    </g>\n    <g id=\"xtick_4\">\n     <g id=\"line2d_4\">\n      <g>\n       <use style=\"stroke:#000000;stroke-width:0.8;\" x=\"244.004779\" xlink:href=\"#md7d670f134\" y=\"224.64\"/>\n      </g>\n     </g>\n     <g id=\"text_4\">\n      <!-- 0.6 -->\n      <defs>\n       <path d=\"M 33.015625 40.375 \nQ 26.375 40.375 22.484375 35.828125 \nQ 18.609375 31.296875 18.609375 23.390625 \nQ 18.609375 15.53125 22.484375 10.953125 \nQ 26.375 6.390625 33.015625 6.390625 \nQ 39.65625 6.390625 43.53125 10.953125 \nQ 47.40625 15.53125 47.40625 23.390625 \nQ 47.40625 31.296875 43.53125 35.828125 \nQ 39.65625 40.375 33.015625 40.375 \nz\nM 52.59375 71.296875 \nL 52.59375 62.3125 \nQ 48.875 64.0625 45.09375 64.984375 \nQ 41.3125 65.921875 37.59375 65.921875 \nQ 27.828125 65.921875 22.671875 59.328125 \nQ 17.53125 52.734375 16.796875 39.40625 \nQ 19.671875 43.65625 24.015625 45.921875 \nQ 28.375 48.1875 33.59375 48.1875 \nQ 44.578125 48.1875 50.953125 41.515625 \nQ 57.328125 34.859375 57.328125 23.390625 \nQ 57.328125 12.15625 50.6875 5.359375 \nQ 44.046875 -1.421875 33.015625 -1.421875 \nQ 20.359375 -1.421875 13.671875 8.265625 \nQ 6.984375 17.96875 6.984375 36.375 \nQ 6.984375 53.65625 15.1875 63.9375 \nQ 23.390625 74.21875 37.203125 74.21875 \nQ 40.921875 74.21875 44.703125 73.484375 \nQ 48.484375 72.75 52.59375 71.296875 \nz\n\" id=\"DejaVuSans-54\"/>\n      </defs>\n      <g transform=\"translate(236.053217 239.238437)scale(0.1 -0.1)\">\n       <use xlink:href=\"#DejaVuSans-48\"/>\n       <use x=\"63.623047\" xlink:href=\"#DejaVuSans-46\"/>\n       <use x=\"95.410156\" xlink:href=\"#DejaVuSans-54\"/>\n      </g>\n     </g>\n    </g>\n    <g id=\"xtick_5\">\n     <g id=\"line2d_5\">\n      <g>\n       <use style=\"stroke:#000000;stroke-width:0.8;\" x=\"309.651838\" xlink:href=\"#md7d670f134\" y=\"224.64\"/>\n      </g>\n     </g>\n     <g id=\"text_5\">\n      <!-- 0.8 -->\n      <defs>\n       <path d=\"M 31.78125 34.625 \nQ 24.75 34.625 20.71875 30.859375 \nQ 16.703125 27.09375 16.703125 20.515625 \nQ 16.703125 13.921875 20.71875 10.15625 \nQ 24.75 6.390625 31.78125 6.390625 \nQ 38.8125 6.390625 42.859375 10.171875 \nQ 46.921875 13.96875 46.921875 20.515625 \nQ 46.921875 27.09375 42.890625 30.859375 \nQ 38.875 34.625 31.78125 34.625 \nz\nM 21.921875 38.8125 \nQ 15.578125 40.375 12.03125 44.71875 \nQ 8.5 49.078125 8.5 55.328125 \nQ 8.5 64.0625 14.71875 69.140625 \nQ 20.953125 74.21875 31.78125 74.21875 \nQ 42.671875 74.21875 48.875 69.140625 \nQ 55.078125 64.0625 55.078125 55.328125 \nQ 55.078125 49.078125 51.53125 44.71875 \nQ 48 40.375 41.703125 38.8125 \nQ 48.828125 37.15625 52.796875 32.3125 \nQ 56.78125 27.484375 56.78125 20.515625 \nQ 56.78125 9.90625 50.3125 4.234375 \nQ 43.84375 -1.421875 31.78125 -1.421875 \nQ 19.734375 -1.421875 13.25 4.234375 \nQ 6.78125 9.90625 6.78125 20.515625 \nQ 6.78125 27.484375 10.78125 32.3125 \nQ 14.796875 37.15625 21.921875 38.8125 \nz\nM 18.3125 54.390625 \nQ 18.3125 48.734375 21.84375 45.5625 \nQ 25.390625 42.390625 31.78125 42.390625 \nQ 38.140625 42.390625 41.71875 45.5625 \nQ 45.3125 48.734375 45.3125 54.390625 \nQ 45.3125 60.0625 41.71875 63.234375 \nQ 38.140625 66.40625 31.78125 66.40625 \nQ 25.390625 66.40625 21.84375 63.234375 \nQ 18.3125 60.0625 18.3125 54.390625 \nz\n\" id=\"DejaVuSans-56\"/>\n      </defs>\n      <g transform=\"translate(301.700276 239.238437)scale(0.1 -0.1)\">\n       <use xlink:href=\"#DejaVuSans-48\"/>\n       <use x=\"63.623047\" xlink:href=\"#DejaVuSans-46\"/>\n       <use x=\"95.410156\" xlink:href=\"#DejaVuSans-56\"/>\n      </g>\n     </g>\n    </g>\n    <g id=\"xtick_6\">\n     <g id=\"line2d_6\">\n      <g>\n       <use style=\"stroke:#000000;stroke-width:0.8;\" x=\"375.298897\" xlink:href=\"#md7d670f134\" y=\"224.64\"/>\n      </g>\n     </g>\n     <g id=\"text_6\">\n      <!-- 1.0 -->\n      <defs>\n       <path d=\"M 12.40625 8.296875 \nL 28.515625 8.296875 \nL 28.515625 63.921875 \nL 10.984375 60.40625 \nL 10.984375 69.390625 \nL 28.421875 72.90625 \nL 38.28125 72.90625 \nL 38.28125 8.296875 \nL 54.390625 8.296875 \nL 54.390625 0 \nL 12.40625 0 \nz\n\" id=\"DejaVuSans-49\"/>\n      </defs>\n      <g transform=\"translate(367.347335 239.238437)scale(0.1 -0.1)\">\n       <use xlink:href=\"#DejaVuSans-49\"/>\n       <use x=\"63.623047\" xlink:href=\"#DejaVuSans-46\"/>\n       <use x=\"95.410156\" xlink:href=\"#DejaVuSans-48\"/>\n      </g>\n     </g>\n    </g>\n    <g id=\"text_7\">\n     <!-- False Positive Rate -->\n     <defs>\n      <path d=\"M 9.8125 72.90625 \nL 51.703125 72.90625 \nL 51.703125 64.59375 \nL 19.671875 64.59375 \nL 19.671875 43.109375 \nL 48.578125 43.109375 \nL 48.578125 34.8125 \nL 19.671875 34.8125 \nL 19.671875 0 \nL 9.8125 0 \nz\n\" id=\"DejaVuSans-70\"/>\n      <path d=\"M 34.28125 27.484375 \nQ 23.390625 27.484375 19.1875 25 \nQ 14.984375 22.515625 14.984375 16.5 \nQ 14.984375 11.71875 18.140625 8.90625 \nQ 21.296875 6.109375 26.703125 6.109375 \nQ 34.1875 6.109375 38.703125 11.40625 \nQ 43.21875 16.703125 43.21875 25.484375 \nL 43.21875 27.484375 \nz\nM 52.203125 31.203125 \nL 52.203125 0 \nL 43.21875 0 \nL 43.21875 8.296875 \nQ 40.140625 3.328125 35.546875 0.953125 \nQ 30.953125 -1.421875 24.3125 -1.421875 \nQ 15.921875 -1.421875 10.953125 3.296875 \nQ 6 8.015625 6 15.921875 \nQ 6 25.140625 12.171875 29.828125 \nQ 18.359375 34.515625 30.609375 34.515625 \nL 43.21875 34.515625 \nL 43.21875 35.40625 \nQ 43.21875 41.609375 39.140625 45 \nQ 35.0625 48.390625 27.6875 48.390625 \nQ 23 48.390625 18.546875 47.265625 \nQ 14.109375 46.140625 10.015625 43.890625 \nL 10.015625 52.203125 \nQ 14.9375 54.109375 19.578125 55.046875 \nQ 24.21875 56 28.609375 56 \nQ 40.484375 56 46.34375 49.84375 \nQ 52.203125 43.703125 52.203125 31.203125 \nz\n\" id=\"DejaVuSans-97\"/>\n      <path d=\"M 9.421875 75.984375 \nL 18.40625 75.984375 \nL 18.40625 0 \nL 9.421875 0 \nz\n\" id=\"DejaVuSans-108\"/>\n      <path d=\"M 44.28125 53.078125 \nL 44.28125 44.578125 \nQ 40.484375 46.53125 36.375 47.5 \nQ 32.28125 48.484375 27.875 48.484375 \nQ 21.1875 48.484375 17.84375 46.4375 \nQ 14.5 44.390625 14.5 40.28125 \nQ 14.5 37.15625 16.890625 35.375 \nQ 19.28125 33.59375 26.515625 31.984375 \nL 29.59375 31.296875 \nQ 39.15625 29.25 43.1875 25.515625 \nQ 47.21875 21.78125 47.21875 15.09375 \nQ 47.21875 7.46875 41.1875 3.015625 \nQ 35.15625 -1.421875 24.609375 -1.421875 \nQ 20.21875 -1.421875 15.453125 -0.5625 \nQ 10.6875 0.296875 5.421875 2 \nL 5.421875 11.28125 \nQ 10.40625 8.6875 15.234375 7.390625 \nQ 20.0625 6.109375 24.8125 6.109375 \nQ 31.15625 6.109375 34.5625 8.28125 \nQ 37.984375 10.453125 37.984375 14.40625 \nQ 37.984375 18.0625 35.515625 20.015625 \nQ 33.0625 21.96875 24.703125 23.78125 \nL 21.578125 24.515625 \nQ 13.234375 26.265625 9.515625 29.90625 \nQ 5.8125 33.546875 5.8125 39.890625 \nQ 5.8125 47.609375 11.28125 51.796875 \nQ 16.75 56 26.8125 56 \nQ 31.78125 56 36.171875 55.265625 \nQ 40.578125 54.546875 44.28125 53.078125 \nz\n\" id=\"DejaVuSans-115\"/>\n      <path d=\"M 56.203125 29.59375 \nL 56.203125 25.203125 \nL 14.890625 25.203125 \nQ 15.484375 15.921875 20.484375 11.0625 \nQ 25.484375 6.203125 34.421875 6.203125 \nQ 39.59375 6.203125 44.453125 7.46875 \nQ 49.3125 8.734375 54.109375 11.28125 \nL 54.109375 2.78125 \nQ 49.265625 0.734375 44.1875 -0.34375 \nQ 39.109375 -1.421875 33.890625 -1.421875 \nQ 20.796875 -1.421875 13.15625 6.1875 \nQ 5.515625 13.8125 5.515625 26.8125 \nQ 5.515625 40.234375 12.765625 48.109375 \nQ 20.015625 56 32.328125 56 \nQ 43.359375 56 49.78125 48.890625 \nQ 56.203125 41.796875 56.203125 29.59375 \nz\nM 47.21875 32.234375 \nQ 47.125 39.59375 43.09375 43.984375 \nQ 39.0625 48.390625 32.421875 48.390625 \nQ 24.90625 48.390625 20.390625 44.140625 \nQ 15.875 39.890625 15.1875 32.171875 \nz\n\" id=\"DejaVuSans-101\"/>\n      <path id=\"DejaVuSans-32\"/>\n      <path d=\"M 19.671875 64.796875 \nL 19.671875 37.40625 \nL 32.078125 37.40625 \nQ 38.96875 37.40625 42.71875 40.96875 \nQ 46.484375 44.53125 46.484375 51.125 \nQ 46.484375 57.671875 42.71875 61.234375 \nQ 38.96875 64.796875 32.078125 64.796875 \nz\nM 9.8125 72.90625 \nL 32.078125 72.90625 \nQ 44.34375 72.90625 50.609375 67.359375 \nQ 56.890625 61.8125 56.890625 51.125 \nQ 56.890625 40.328125 50.609375 34.8125 \nQ 44.34375 29.296875 32.078125 29.296875 \nL 19.671875 29.296875 \nL 19.671875 0 \nL 9.8125 0 \nz\n\" id=\"DejaVuSans-80\"/>\n      <path d=\"M 30.609375 48.390625 \nQ 23.390625 48.390625 19.1875 42.75 \nQ 14.984375 37.109375 14.984375 27.296875 \nQ 14.984375 17.484375 19.15625 11.84375 \nQ 23.34375 6.203125 30.609375 6.203125 \nQ 37.796875 6.203125 41.984375 11.859375 \nQ 46.1875 17.53125 46.1875 27.296875 \nQ 46.1875 37.015625 41.984375 42.703125 \nQ 37.796875 48.390625 30.609375 48.390625 \nz\nM 30.609375 56 \nQ 42.328125 56 49.015625 48.375 \nQ 55.71875 40.765625 55.71875 27.296875 \nQ 55.71875 13.875 49.015625 6.21875 \nQ 42.328125 -1.421875 30.609375 -1.421875 \nQ 18.84375 -1.421875 12.171875 6.21875 \nQ 5.515625 13.875 5.515625 27.296875 \nQ 5.515625 40.765625 12.171875 48.375 \nQ 18.84375 56 30.609375 56 \nz\n\" id=\"DejaVuSans-111\"/>\n      <path d=\"M 9.421875 54.6875 \nL 18.40625 54.6875 \nL 18.40625 0 \nL 9.421875 0 \nz\nM 9.421875 75.984375 \nL 18.40625 75.984375 \nL 18.40625 64.59375 \nL 9.421875 64.59375 \nz\n\" id=\"DejaVuSans-105\"/>\n      <path d=\"M 18.3125 70.21875 \nL 18.3125 54.6875 \nL 36.8125 54.6875 \nL 36.8125 47.703125 \nL 18.3125 47.703125 \nL 18.3125 18.015625 \nQ 18.3125 11.328125 20.140625 9.421875 \nQ 21.96875 7.515625 27.59375 7.515625 \nL 36.8125 7.515625 \nL 36.8125 0 \nL 27.59375 0 \nQ 17.1875 0 13.234375 3.875 \nQ 9.28125 7.765625 9.28125 18.015625 \nL 9.28125 47.703125 \nL 2.6875 47.703125 \nL 2.6875 54.6875 \nL 9.28125 54.6875 \nL 9.28125 70.21875 \nz\n\" id=\"DejaVuSans-116\"/>\n      <path d=\"M 2.984375 54.6875 \nL 12.5 54.6875 \nL 29.59375 8.796875 \nL 46.6875 54.6875 \nL 56.203125 54.6875 \nL 35.6875 0 \nL 23.484375 0 \nz\n\" id=\"DejaVuSans-118\"/>\n      <path d=\"M 44.390625 34.1875 \nQ 47.5625 33.109375 50.5625 29.59375 \nQ 53.5625 26.078125 56.59375 19.921875 \nL 66.609375 0 \nL 56 0 \nL 46.6875 18.703125 \nQ 43.0625 26.03125 39.671875 28.421875 \nQ 36.28125 30.8125 30.421875 30.8125 \nL 19.671875 30.8125 \nL 19.671875 0 \nL 9.8125 0 \nL 9.8125 72.90625 \nL 32.078125 72.90625 \nQ 44.578125 72.90625 50.734375 67.671875 \nQ 56.890625 62.453125 56.890625 51.90625 \nQ 56.890625 45.015625 53.6875 40.46875 \nQ 50.484375 35.9375 44.390625 34.1875 \nz\nM 19.671875 64.796875 \nL 19.671875 38.921875 \nL 32.078125 38.921875 \nQ 39.203125 38.921875 42.84375 42.21875 \nQ 46.484375 45.515625 46.484375 51.90625 \nQ 46.484375 58.296875 42.84375 61.546875 \nQ 39.203125 64.796875 32.078125 64.796875 \nz\n\" id=\"DejaVuSans-82\"/>\n     </defs>\n     <g transform=\"translate(164.714844 252.916562)scale(0.1 -0.1)\">\n      <use xlink:href=\"#DejaVuSans-70\"/>\n      <use x=\"48.394531\" xlink:href=\"#DejaVuSans-97\"/>\n      <use x=\"109.673828\" xlink:href=\"#DejaVuSans-108\"/>\n      <use x=\"137.457031\" xlink:href=\"#DejaVuSans-115\"/>\n      <use x=\"189.556641\" xlink:href=\"#DejaVuSans-101\"/>\n      <use x=\"251.080078\" xlink:href=\"#DejaVuSans-32\"/>\n      <use x=\"282.867188\" xlink:href=\"#DejaVuSans-80\"/>\n      <use x=\"339.544922\" xlink:href=\"#DejaVuSans-111\"/>\n      <use x=\"400.726562\" xlink:href=\"#DejaVuSans-115\"/>\n      <use x=\"452.826172\" xlink:href=\"#DejaVuSans-105\"/>\n      <use x=\"480.609375\" xlink:href=\"#DejaVuSans-116\"/>\n      <use x=\"519.818359\" xlink:href=\"#DejaVuSans-105\"/>\n      <use x=\"547.601562\" xlink:href=\"#DejaVuSans-118\"/>\n      <use x=\"606.78125\" xlink:href=\"#DejaVuSans-101\"/>\n      <use x=\"668.304688\" xlink:href=\"#DejaVuSans-32\"/>\n      <use x=\"700.091797\" xlink:href=\"#DejaVuSans-82\"/>\n      <use x=\"767.324219\" xlink:href=\"#DejaVuSans-97\"/>\n      <use x=\"828.603516\" xlink:href=\"#DejaVuSans-116\"/>\n      <use x=\"867.8125\" xlink:href=\"#DejaVuSans-101\"/>\n     </g>\n    </g>\n   </g>\n   <g id=\"matplotlib.axis_2\">\n    <g id=\"ytick_1\">\n     <g id=\"line2d_7\">\n      <defs>\n       <path d=\"M 0 0 \nL -3.5 0 \n\" id=\"mdcfaab0deb\" style=\"stroke:#000000;stroke-width:0.8;\"/>\n      </defs>\n      <g>\n       <use style=\"stroke:#000000;stroke-width:0.8;\" x=\"43.78125\" xlink:href=\"#mdcfaab0deb\" y=\"224.64\"/>\n      </g>\n     </g>\n     <g id=\"text_8\">\n      <!-- 0.0 -->\n      <g transform=\"translate(20.878125 228.439219)scale(0.1 -0.1)\">\n       <use xlink:href=\"#DejaVuSans-48\"/>\n       <use x=\"63.623047\" xlink:href=\"#DejaVuSans-46\"/>\n       <use x=\"95.410156\" xlink:href=\"#DejaVuSans-48\"/>\n      </g>\n     </g>\n    </g>\n    <g id=\"ytick_2\">\n     <g id=\"line2d_8\">\n      <g>\n       <use style=\"stroke:#000000;stroke-width:0.8;\" x=\"43.78125\" xlink:href=\"#mdcfaab0deb\" y=\"183.222857\"/>\n      </g>\n     </g>\n     <g id=\"text_9\">\n      <!-- 0.2 -->\n      <g transform=\"translate(20.878125 187.022076)scale(0.1 -0.1)\">\n       <use xlink:href=\"#DejaVuSans-48\"/>\n       <use x=\"63.623047\" xlink:href=\"#DejaVuSans-46\"/>\n       <use x=\"95.410156\" xlink:href=\"#DejaVuSans-50\"/>\n      </g>\n     </g>\n    </g>\n    <g id=\"ytick_3\">\n     <g id=\"line2d_9\">\n      <g>\n       <use style=\"stroke:#000000;stroke-width:0.8;\" x=\"43.78125\" xlink:href=\"#mdcfaab0deb\" y=\"141.805714\"/>\n      </g>\n     </g>\n     <g id=\"text_10\">\n      <!-- 0.4 -->\n      <g transform=\"translate(20.878125 145.604933)scale(0.1 -0.1)\">\n       <use xlink:href=\"#DejaVuSans-48\"/>\n       <use x=\"63.623047\" xlink:href=\"#DejaVuSans-46\"/>\n       <use x=\"95.410156\" xlink:href=\"#DejaVuSans-52\"/>\n      </g>\n     </g>\n    </g>\n    <g id=\"ytick_4\">\n     <g id=\"line2d_10\">\n      <g>\n       <use style=\"stroke:#000000;stroke-width:0.8;\" x=\"43.78125\" xlink:href=\"#mdcfaab0deb\" y=\"100.388571\"/>\n      </g>\n     </g>\n     <g id=\"text_11\">\n      <!-- 0.6 -->\n      <g transform=\"translate(20.878125 104.18779)scale(0.1 -0.1)\">\n       <use xlink:href=\"#DejaVuSans-48\"/>\n       <use x=\"63.623047\" xlink:href=\"#DejaVuSans-46\"/>\n       <use x=\"95.410156\" xlink:href=\"#DejaVuSans-54\"/>\n      </g>\n     </g>\n    </g>\n    <g id=\"ytick_5\">\n     <g id=\"line2d_11\">\n      <g>\n       <use style=\"stroke:#000000;stroke-width:0.8;\" x=\"43.78125\" xlink:href=\"#mdcfaab0deb\" y=\"58.971429\"/>\n      </g>\n     </g>\n     <g id=\"text_12\">\n      <!-- 0.8 -->\n      <g transform=\"translate(20.878125 62.770647)scale(0.1 -0.1)\">\n       <use xlink:href=\"#DejaVuSans-48\"/>\n       <use x=\"63.623047\" xlink:href=\"#DejaVuSans-46\"/>\n       <use x=\"95.410156\" xlink:href=\"#DejaVuSans-56\"/>\n      </g>\n     </g>\n    </g>\n    <g id=\"ytick_6\">\n     <g id=\"line2d_12\">\n      <g>\n       <use style=\"stroke:#000000;stroke-width:0.8;\" x=\"43.78125\" xlink:href=\"#mdcfaab0deb\" y=\"17.554286\"/>\n      </g>\n     </g>\n     <g id=\"text_13\">\n      <!-- 1.0 -->\n      <g transform=\"translate(20.878125 21.353504)scale(0.1 -0.1)\">\n       <use xlink:href=\"#DejaVuSans-49\"/>\n       <use x=\"63.623047\" xlink:href=\"#DejaVuSans-46\"/>\n       <use x=\"95.410156\" xlink:href=\"#DejaVuSans-48\"/>\n      </g>\n     </g>\n    </g>\n    <g id=\"text_14\">\n     <!-- True Positive Rate -->\n     <defs>\n      <path d=\"M -0.296875 72.90625 \nL 61.375 72.90625 \nL 61.375 64.59375 \nL 35.5 64.59375 \nL 35.5 0 \nL 25.59375 0 \nL 25.59375 64.59375 \nL -0.296875 64.59375 \nz\n\" id=\"DejaVuSans-84\"/>\n      <path d=\"M 41.109375 46.296875 \nQ 39.59375 47.171875 37.8125 47.578125 \nQ 36.03125 48 33.890625 48 \nQ 26.265625 48 22.1875 43.046875 \nQ 18.109375 38.09375 18.109375 28.8125 \nL 18.109375 0 \nL 9.078125 0 \nL 9.078125 54.6875 \nL 18.109375 54.6875 \nL 18.109375 46.1875 \nQ 20.953125 51.171875 25.484375 53.578125 \nQ 30.03125 56 36.53125 56 \nQ 37.453125 56 38.578125 55.875 \nQ 39.703125 55.765625 41.0625 55.515625 \nz\n\" id=\"DejaVuSans-114\"/>\n      <path d=\"M 8.5 21.578125 \nL 8.5 54.6875 \nL 17.484375 54.6875 \nL 17.484375 21.921875 \nQ 17.484375 14.15625 20.5 10.265625 \nQ 23.53125 6.390625 29.59375 6.390625 \nQ 36.859375 6.390625 41.078125 11.03125 \nQ 45.3125 15.671875 45.3125 23.6875 \nL 45.3125 54.6875 \nL 54.296875 54.6875 \nL 54.296875 0 \nL 45.3125 0 \nL 45.3125 8.40625 \nQ 42.046875 3.421875 37.71875 1 \nQ 33.40625 -1.421875 27.6875 -1.421875 \nQ 18.265625 -1.421875 13.375 4.4375 \nQ 8.5 10.296875 8.5 21.578125 \nz\nM 31.109375 56 \nz\n\" id=\"DejaVuSans-117\"/>\n     </defs>\n     <g transform=\"translate(14.798438 160.449687)rotate(-90)scale(0.1 -0.1)\">\n      <use xlink:href=\"#DejaVuSans-84\"/>\n      <use x=\"46.333984\" xlink:href=\"#DejaVuSans-114\"/>\n      <use x=\"87.447266\" xlink:href=\"#DejaVuSans-117\"/>\n      <use x=\"150.826172\" xlink:href=\"#DejaVuSans-101\"/>\n      <use x=\"212.349609\" xlink:href=\"#DejaVuSans-32\"/>\n      <use x=\"244.136719\" xlink:href=\"#DejaVuSans-80\"/>\n      <use x=\"300.814453\" xlink:href=\"#DejaVuSans-111\"/>\n      <use x=\"361.996094\" xlink:href=\"#DejaVuSans-115\"/>\n      <use x=\"414.095703\" xlink:href=\"#DejaVuSans-105\"/>\n      <use x=\"441.878906\" xlink:href=\"#DejaVuSans-116\"/>\n      <use x=\"481.087891\" xlink:href=\"#DejaVuSans-105\"/>\n      <use x=\"508.871094\" xlink:href=\"#DejaVuSans-118\"/>\n      <use x=\"568.050781\" xlink:href=\"#DejaVuSans-101\"/>\n      <use x=\"629.574219\" xlink:href=\"#DejaVuSans-32\"/>\n      <use x=\"661.361328\" xlink:href=\"#DejaVuSans-82\"/>\n      <use x=\"728.59375\" xlink:href=\"#DejaVuSans-97\"/>\n      <use x=\"789.873047\" xlink:href=\"#DejaVuSans-116\"/>\n      <use x=\"829.082031\" xlink:href=\"#DejaVuSans-101\"/>\n     </g>\n    </g>\n   </g>\n   <g id=\"line2d_13\">\n    <path clip-path=\"url(#p0b6981ede1)\" d=\"M 47.063603 224.64 \nL 47.361999 224.64 \nL 47.361999 222.114564 \nL 47.660394 222.114564 \nL 47.660394 219.589129 \nL 47.95879 219.589129 \nL 47.95879 209.487387 \nL 48.257186 209.487387 \nL 48.257186 204.436516 \nL 50.04756 204.436516 \nL 50.04756 201.91108 \nL 50.345956 201.91108 \nL 50.345956 199.385645 \nL 51.241143 199.385645 \nL 51.241143 196.860209 \nL 51.539539 196.860209 \nL 51.539539 194.334774 \nL 51.837934 194.334774 \nL 51.837934 191.809338 \nL 52.13633 191.809338 \nL 52.13633 186.758467 \nL 52.434726 186.758467 \nL 52.434726 184.233031 \nL 53.329913 184.233031 \nL 53.329913 181.707596 \nL 53.926705 181.707596 \nL 53.926705 174.131289 \nL 54.2251 174.131289 \nL 54.2251 171.605854 \nL 54.821892 171.605854 \nL 54.821892 164.029547 \nL 55.120287 164.029547 \nL 55.120287 158.978676 \nL 55.418683 158.978676 \nL 55.418683 156.45324 \nL 56.910662 156.45324 \nL 56.910662 148.876934 \nL 58.701036 148.876934 \nL 58.701036 146.351498 \nL 59.297828 146.351498 \nL 59.297828 141.300627 \nL 59.894619 141.300627 \nL 59.894619 138.775192 \nL 60.49141 138.775192 \nL 60.49141 136.249756 \nL 61.088202 136.249756 \nL 61.088202 133.724321 \nL 62.58018 133.724321 \nL 62.58018 131.198885 \nL 63.773763 131.198885 \nL 63.773763 128.673449 \nL 65.564138 128.673449 \nL 65.564138 126.148014 \nL 66.757721 126.148014 \nL 66.757721 123.622578 \nL 67.056116 123.622578 \nL 67.056116 118.571707 \nL 67.652908 118.571707 \nL 67.652908 116.046272 \nL 67.951303 116.046272 \nL 67.951303 113.520836 \nL 74.814405 113.520836 \nL 74.814405 110.995401 \nL 75.411197 110.995401 \nL 75.411197 108.469965 \nL 82.572694 108.469965 \nL 82.572694 105.94453 \nL 83.766277 105.94453 \nL 83.766277 103.419094 \nL 95.105314 103.419094 \nL 95.105314 100.893659 \nL 97.194084 100.893659 \nL 97.194084 95.842787 \nL 99.58125 95.842787 \nL 99.58125 93.317352 \nL 101.371624 93.317352 \nL 101.371624 88.266481 \nL 104.952373 88.266481 \nL 104.952373 85.741045 \nL 118.38018 85.741045 \nL 118.38018 83.21561 \nL 125.840074 83.21561 \nL 125.840074 80.690174 \nL 127.033656 80.690174 \nL 127.033656 78.164739 \nL 134.195154 78.164739 \nL 134.195154 75.639303 \nL 141.356651 75.639303 \nL 141.356651 73.113868 \nL 143.743817 73.113868 \nL 143.743817 70.588432 \nL 144.340608 70.588432 \nL 144.340608 68.062997 \nL 150.308523 68.062997 \nL 150.308523 65.537561 \nL 159.260394 65.537561 \nL 159.260394 63.012125 \nL 167.615475 63.012125 \nL 167.615475 60.48669 \nL 170.897828 60.48669 \nL 170.897828 52.910383 \nL 172.688202 52.910383 \nL 172.688202 50.384948 \nL 179.849699 50.384948 \nL 179.849699 47.859512 \nL 183.132052 47.859512 \nL 183.132052 42.808641 \nL 215.060394 42.808641 \nL 215.060394 40.283206 \nL 218.641143 40.283206 \nL 218.641143 35.232334 \nL 244.601571 35.232334 \nL 244.601571 32.706899 \nL 272.650769 32.706899 \nL 272.650769 30.181463 \nL 286.675368 30.181463 \nL 286.675368 27.656028 \nL 310.845421 27.656028 \nL 310.845421 25.130592 \nL 312.3374 25.130592 \nL 312.3374 22.605157 \nL 323.378041 22.605157 \nL 323.378041 20.079721 \nL 353.516009 20.079721 \nL 353.516009 17.554286 \nL 375.298897 17.554286 \nL 375.298897 17.554286 \n\" style=\"fill:none;stroke:#1f77b4;stroke-linecap:square;stroke-width:1.5;\"/>\n   </g>\n   <g id=\"line2d_14\">\n    <path clip-path=\"url(#p0b6981ede1)\" d=\"M 47.063603 224.64 \nL 375.298897 17.554286 \n\" style=\"fill:none;stroke:#000000;stroke-dasharray:5.55,2.4;stroke-dashoffset:0;stroke-width:1.5;\"/>\n   </g>\n   <g id=\"patch_3\">\n    <path d=\"M 43.78125 224.64 \nL 43.78125 7.2 \n\" style=\"fill:none;stroke:#000000;stroke-linecap:square;stroke-linejoin:miter;stroke-width:0.8;\"/>\n   </g>\n   <g id=\"patch_4\">\n    <path d=\"M 378.58125 224.64 \nL 378.58125 7.2 \n\" style=\"fill:none;stroke:#000000;stroke-linecap:square;stroke-linejoin:miter;stroke-width:0.8;\"/>\n   </g>\n   <g id=\"patch_5\">\n    <path d=\"M 43.78125 224.64 \nL 378.58125 224.64 \n\" style=\"fill:none;stroke:#000000;stroke-linecap:square;stroke-linejoin:miter;stroke-width:0.8;\"/>\n   </g>\n   <g id=\"patch_6\">\n    <path d=\"M 43.78125 7.2 \nL 378.58125 7.2 \n\" style=\"fill:none;stroke:#000000;stroke-linecap:square;stroke-linejoin:miter;stroke-width:0.8;\"/>\n   </g>\n   <g id=\"legend_1\">\n    <g id=\"patch_7\">\n     <path d=\"M 201.295312 219.64 \nL 371.58125 219.64 \nQ 373.58125 219.64 373.58125 217.64 \nL 373.58125 203.961875 \nQ 373.58125 201.961875 371.58125 201.961875 \nL 201.295312 201.961875 \nQ 199.295312 201.961875 199.295312 203.961875 \nL 199.295312 217.64 \nQ 199.295312 219.64 201.295312 219.64 \nz\n\" style=\"fill:#ffffff;opacity:0.8;stroke:#cccccc;stroke-linejoin:miter;\"/>\n    </g>\n    <g id=\"line2d_15\">\n     <path d=\"M 203.295312 210.060312 \nL 223.295312 210.060312 \n\" style=\"fill:none;stroke:#1f77b4;stroke-linecap:square;stroke-width:1.5;\"/>\n    </g>\n    <g id=\"line2d_16\"/>\n    <g id=\"text_15\">\n     <!-- GridSearchCV (AUC = 0.81) -->\n     <defs>\n      <path d=\"M 59.515625 10.40625 \nL 59.515625 29.984375 \nL 43.40625 29.984375 \nL 43.40625 38.09375 \nL 69.28125 38.09375 \nL 69.28125 6.78125 \nQ 63.578125 2.734375 56.6875 0.65625 \nQ 49.8125 -1.421875 42 -1.421875 \nQ 24.90625 -1.421875 15.25 8.5625 \nQ 5.609375 18.5625 5.609375 36.375 \nQ 5.609375 54.25 15.25 64.234375 \nQ 24.90625 74.21875 42 74.21875 \nQ 49.125 74.21875 55.546875 72.453125 \nQ 61.96875 70.703125 67.390625 67.28125 \nL 67.390625 56.78125 \nQ 61.921875 61.421875 55.765625 63.765625 \nQ 49.609375 66.109375 42.828125 66.109375 \nQ 29.4375 66.109375 22.71875 58.640625 \nQ 16.015625 51.171875 16.015625 36.375 \nQ 16.015625 21.625 22.71875 14.15625 \nQ 29.4375 6.6875 42.828125 6.6875 \nQ 48.046875 6.6875 52.140625 7.59375 \nQ 56.25 8.5 59.515625 10.40625 \nz\n\" id=\"DejaVuSans-71\"/>\n      <path d=\"M 45.40625 46.390625 \nL 45.40625 75.984375 \nL 54.390625 75.984375 \nL 54.390625 0 \nL 45.40625 0 \nL 45.40625 8.203125 \nQ 42.578125 3.328125 38.25 0.953125 \nQ 33.9375 -1.421875 27.875 -1.421875 \nQ 17.96875 -1.421875 11.734375 6.484375 \nQ 5.515625 14.40625 5.515625 27.296875 \nQ 5.515625 40.1875 11.734375 48.09375 \nQ 17.96875 56 27.875 56 \nQ 33.9375 56 38.25 53.625 \nQ 42.578125 51.265625 45.40625 46.390625 \nz\nM 14.796875 27.296875 \nQ 14.796875 17.390625 18.875 11.75 \nQ 22.953125 6.109375 30.078125 6.109375 \nQ 37.203125 6.109375 41.296875 11.75 \nQ 45.40625 17.390625 45.40625 27.296875 \nQ 45.40625 37.203125 41.296875 42.84375 \nQ 37.203125 48.484375 30.078125 48.484375 \nQ 22.953125 48.484375 18.875 42.84375 \nQ 14.796875 37.203125 14.796875 27.296875 \nz\n\" id=\"DejaVuSans-100\"/>\n      <path d=\"M 53.515625 70.515625 \nL 53.515625 60.890625 \nQ 47.90625 63.578125 42.921875 64.890625 \nQ 37.9375 66.21875 33.296875 66.21875 \nQ 25.25 66.21875 20.875 63.09375 \nQ 16.5 59.96875 16.5 54.203125 \nQ 16.5 49.359375 19.40625 46.890625 \nQ 22.3125 44.4375 30.421875 42.921875 \nL 36.375 41.703125 \nQ 47.40625 39.59375 52.65625 34.296875 \nQ 57.90625 29 57.90625 20.125 \nQ 57.90625 9.515625 50.796875 4.046875 \nQ 43.703125 -1.421875 29.984375 -1.421875 \nQ 24.8125 -1.421875 18.96875 -0.25 \nQ 13.140625 0.921875 6.890625 3.21875 \nL 6.890625 13.375 \nQ 12.890625 10.015625 18.65625 8.296875 \nQ 24.421875 6.59375 29.984375 6.59375 \nQ 38.421875 6.59375 43.015625 9.90625 \nQ 47.609375 13.234375 47.609375 19.390625 \nQ 47.609375 24.75 44.3125 27.78125 \nQ 41.015625 30.8125 33.5 32.328125 \nL 27.484375 33.5 \nQ 16.453125 35.6875 11.515625 40.375 \nQ 6.59375 45.0625 6.59375 53.421875 \nQ 6.59375 63.09375 13.40625 68.65625 \nQ 20.21875 74.21875 32.171875 74.21875 \nQ 37.3125 74.21875 42.625 73.28125 \nQ 47.953125 72.359375 53.515625 70.515625 \nz\n\" id=\"DejaVuSans-83\"/>\n      <path d=\"M 48.78125 52.59375 \nL 48.78125 44.1875 \nQ 44.96875 46.296875 41.140625 47.34375 \nQ 37.3125 48.390625 33.40625 48.390625 \nQ 24.65625 48.390625 19.8125 42.84375 \nQ 14.984375 37.3125 14.984375 27.296875 \nQ 14.984375 17.28125 19.8125 11.734375 \nQ 24.65625 6.203125 33.40625 6.203125 \nQ 37.3125 6.203125 41.140625 7.25 \nQ 44.96875 8.296875 48.78125 10.40625 \nL 48.78125 2.09375 \nQ 45.015625 0.34375 40.984375 -0.53125 \nQ 36.96875 -1.421875 32.421875 -1.421875 \nQ 20.0625 -1.421875 12.78125 6.34375 \nQ 5.515625 14.109375 5.515625 27.296875 \nQ 5.515625 40.671875 12.859375 48.328125 \nQ 20.21875 56 33.015625 56 \nQ 37.15625 56 41.109375 55.140625 \nQ 45.0625 54.296875 48.78125 52.59375 \nz\n\" id=\"DejaVuSans-99\"/>\n      <path d=\"M 54.890625 33.015625 \nL 54.890625 0 \nL 45.90625 0 \nL 45.90625 32.71875 \nQ 45.90625 40.484375 42.875 44.328125 \nQ 39.84375 48.1875 33.796875 48.1875 \nQ 26.515625 48.1875 22.3125 43.546875 \nQ 18.109375 38.921875 18.109375 30.90625 \nL 18.109375 0 \nL 9.078125 0 \nL 9.078125 75.984375 \nL 18.109375 75.984375 \nL 18.109375 46.1875 \nQ 21.34375 51.125 25.703125 53.5625 \nQ 30.078125 56 35.796875 56 \nQ 45.21875 56 50.046875 50.171875 \nQ 54.890625 44.34375 54.890625 33.015625 \nz\n\" id=\"DejaVuSans-104\"/>\n      <path d=\"M 64.40625 67.28125 \nL 64.40625 56.890625 \nQ 59.421875 61.53125 53.78125 63.8125 \nQ 48.140625 66.109375 41.796875 66.109375 \nQ 29.296875 66.109375 22.65625 58.46875 \nQ 16.015625 50.828125 16.015625 36.375 \nQ 16.015625 21.96875 22.65625 14.328125 \nQ 29.296875 6.6875 41.796875 6.6875 \nQ 48.140625 6.6875 53.78125 8.984375 \nQ 59.421875 11.28125 64.40625 15.921875 \nL 64.40625 5.609375 \nQ 59.234375 2.09375 53.4375 0.328125 \nQ 47.65625 -1.421875 41.21875 -1.421875 \nQ 24.65625 -1.421875 15.125 8.703125 \nQ 5.609375 18.84375 5.609375 36.375 \nQ 5.609375 53.953125 15.125 64.078125 \nQ 24.65625 74.21875 41.21875 74.21875 \nQ 47.75 74.21875 53.53125 72.484375 \nQ 59.328125 70.75 64.40625 67.28125 \nz\n\" id=\"DejaVuSans-67\"/>\n      <path d=\"M 28.609375 0 \nL 0.78125 72.90625 \nL 11.078125 72.90625 \nL 34.1875 11.53125 \nL 57.328125 72.90625 \nL 67.578125 72.90625 \nL 39.796875 0 \nz\n\" id=\"DejaVuSans-86\"/>\n      <path d=\"M 31 75.875 \nQ 24.46875 64.65625 21.28125 53.65625 \nQ 18.109375 42.671875 18.109375 31.390625 \nQ 18.109375 20.125 21.3125 9.0625 \nQ 24.515625 -2 31 -13.1875 \nL 23.1875 -13.1875 \nQ 15.875 -1.703125 12.234375 9.375 \nQ 8.59375 20.453125 8.59375 31.390625 \nQ 8.59375 42.28125 12.203125 53.3125 \nQ 15.828125 64.359375 23.1875 75.875 \nz\n\" id=\"DejaVuSans-40\"/>\n      <path d=\"M 34.1875 63.1875 \nL 20.796875 26.90625 \nL 47.609375 26.90625 \nz\nM 28.609375 72.90625 \nL 39.796875 72.90625 \nL 67.578125 0 \nL 57.328125 0 \nL 50.6875 18.703125 \nL 17.828125 18.703125 \nL 11.1875 0 \nL 0.78125 0 \nz\n\" id=\"DejaVuSans-65\"/>\n      <path d=\"M 8.6875 72.90625 \nL 18.609375 72.90625 \nL 18.609375 28.609375 \nQ 18.609375 16.890625 22.84375 11.734375 \nQ 27.09375 6.59375 36.625 6.59375 \nQ 46.09375 6.59375 50.34375 11.734375 \nQ 54.59375 16.890625 54.59375 28.609375 \nL 54.59375 72.90625 \nL 64.5 72.90625 \nL 64.5 27.390625 \nQ 64.5 13.140625 57.4375 5.859375 \nQ 50.390625 -1.421875 36.625 -1.421875 \nQ 22.796875 -1.421875 15.734375 5.859375 \nQ 8.6875 13.140625 8.6875 27.390625 \nz\n\" id=\"DejaVuSans-85\"/>\n      <path d=\"M 10.59375 45.40625 \nL 73.1875 45.40625 \nL 73.1875 37.203125 \nL 10.59375 37.203125 \nz\nM 10.59375 25.484375 \nL 73.1875 25.484375 \nL 73.1875 17.1875 \nL 10.59375 17.1875 \nz\n\" id=\"DejaVuSans-61\"/>\n      <path d=\"M 8.015625 75.875 \nL 15.828125 75.875 \nQ 23.140625 64.359375 26.78125 53.3125 \nQ 30.421875 42.28125 30.421875 31.390625 \nQ 30.421875 20.453125 26.78125 9.375 \nQ 23.140625 -1.703125 15.828125 -13.1875 \nL 8.015625 -13.1875 \nQ 14.5 -2 17.703125 9.0625 \nQ 20.90625 20.125 20.90625 31.390625 \nQ 20.90625 42.671875 17.703125 53.65625 \nQ 14.5 64.65625 8.015625 75.875 \nz\n\" id=\"DejaVuSans-41\"/>\n     </defs>\n     <g transform=\"translate(231.295312 213.560312)scale(0.1 -0.1)\">\n      <use xlink:href=\"#DejaVuSans-71\"/>\n      <use x=\"77.490234\" xlink:href=\"#DejaVuSans-114\"/>\n      <use x=\"118.603516\" xlink:href=\"#DejaVuSans-105\"/>\n      <use x=\"146.386719\" xlink:href=\"#DejaVuSans-100\"/>\n      <use x=\"209.863281\" xlink:href=\"#DejaVuSans-83\"/>\n      <use x=\"273.339844\" xlink:href=\"#DejaVuSans-101\"/>\n      <use x=\"334.863281\" xlink:href=\"#DejaVuSans-97\"/>\n      <use x=\"396.142578\" xlink:href=\"#DejaVuSans-114\"/>\n      <use x=\"435.005859\" xlink:href=\"#DejaVuSans-99\"/>\n      <use x=\"489.986328\" xlink:href=\"#DejaVuSans-104\"/>\n      <use x=\"553.365234\" xlink:href=\"#DejaVuSans-67\"/>\n      <use x=\"623.189453\" xlink:href=\"#DejaVuSans-86\"/>\n      <use x=\"691.597656\" xlink:href=\"#DejaVuSans-32\"/>\n      <use x=\"723.384766\" xlink:href=\"#DejaVuSans-40\"/>\n      <use x=\"762.398438\" xlink:href=\"#DejaVuSans-65\"/>\n      <use x=\"830.806641\" xlink:href=\"#DejaVuSans-85\"/>\n      <use x=\"904\" xlink:href=\"#DejaVuSans-67\"/>\n      <use x=\"973.824219\" xlink:href=\"#DejaVuSans-32\"/>\n      <use x=\"1005.611328\" xlink:href=\"#DejaVuSans-61\"/>\n      <use x=\"1089.400391\" xlink:href=\"#DejaVuSans-32\"/>\n      <use x=\"1121.1875\" xlink:href=\"#DejaVuSans-48\"/>\n      <use x=\"1184.810547\" xlink:href=\"#DejaVuSans-46\"/>\n      <use x=\"1216.597656\" xlink:href=\"#DejaVuSans-56\"/>\n      <use x=\"1280.220703\" xlink:href=\"#DejaVuSans-49\"/>\n      <use x=\"1343.84375\" xlink:href=\"#DejaVuSans-41\"/>\n     </g>\n    </g>\n   </g>\n  </g>\n </g>\n <defs>\n  <clipPath id=\"p0b6981ede1\">\n   <rect height=\"217.44\" width=\"334.8\" x=\"43.78125\" y=\"7.2\"/>\n  </clipPath>\n </defs>\n</svg>\n",
      "image/png": "[encoded data removed]"
     },
     "metadata": {
      "needs_background": "light"
     }
    },
    {
     "output_type": "stream",
     "name": "stdout",
     "text": [
      "--------------------------------------------------------------------------------\n\n"
     ]
    }
   ],
   "source": [
    "parameters = {\n",
    "    'C': np.linspace(0.01, 0.99, 10), 'l1_ratio': np.linspace(0.01, 0.99, 10)\n",
    "}\n",
    "logit_elastic_net = linear.LogisticRegression(\n",
    "    penalty='elasticnet', \n",
    "    solver='saga',\n",
    "    max_iter=1000\n",
    ")\n",
    "# scorer_list = ['recall', 'roc_auc', 'accuracy']\n",
    "# Precision measures how accurate our positive predictions are\n",
    "# Recall measures what fraction of the positives we manage to identify.\n",
    "scorer_list = ['recall']\n",
    "grid_result = loop_over_scores(logit_elastic_net, parameters, x_train, y_train, scorer_list)"
   ]
  },
  {
   "cell_type": "code",
   "execution_count": 16,
   "metadata": {},
   "outputs": [
    {
     "output_type": "stream",
     "name": "stdout",
     "text": [
      "Confusion matrix from a LogisticRegression, with test-score of 0.061\n\n                Non-Bankrupt    Bankrupt\n------------  --------------  ----------\nNon-Bankrupt            1093           7\nBankrupt                  73           9\n"
     ]
    },
    {
     "output_type": "execute_result",
     "data": {
      "text/plain": [
       "{'fit_time': 2.8171539306640625,\n",
       " 'score_time': 0.0017740726470947266,\n",
       " 'estimator': LogisticRegression(C=0.99, l1_ratio=0.5544444444444444, max_iter=1000,\n",
       "                    penalty='elasticnet', solver='saga'),\n",
       " 'test_score': 0.06060606060606061}"
      ]
     },
     "metadata": {},
     "execution_count": 16
    }
   ],
   "source": [
    "ml.validate_model(grid_result.best_estimator_, (x_train, y_train), (x_test, y_test))"
   ]
  },
  {
   "cell_type": "markdown",
   "metadata": {},
   "source": [
    "# Regression Tree"
   ]
  },
  {
   "cell_type": "code",
   "execution_count": 7,
   "metadata": {
    "collapsed": true,
    "jupyter": {
     "outputs_hidden": true
    },
    "tags": [
     "outputPrepend"
    ]
   },
   "outputs": [
    {
     "output_type": "stream",
     "name": "stderr",
     "text": [
      "l/anaconda3/lib/python3.8/site-packages/sklearn/tree/_classes.py:306: FutureWarning: The min_impurity_split parameter is deprecated. Its default value has changed from 1e-7 to 0 in version 0.23, and it will be removed in 0.25. Use the min_impurity_decrease parameter instead.\n",
      "  warnings.warn(\"The min_impurity_split parameter is deprecated. \"\n",
      "/Users/karl/anaconda3/lib/python3.8/site-packages/sklearn/tree/_classes.py:306: FutureWarning: The min_impurity_split parameter is deprecated. Its default value has changed from 1e-7 to 0 in version 0.23, and it will be removed in 0.25. Use the min_impurity_decrease parameter instead.\n",
      "  warnings.warn(\"The min_impurity_split parameter is deprecated. \"\n",
      "/Users/karl/anaconda3/lib/python3.8/site-packages/sklearn/tree/_classes.py:306: FutureWarning: The min_impurity_split parameter is deprecated. Its default value has changed from 1e-7 to 0 in version 0.23, and it will be removed in 0.25. Use the min_impurity_decrease parameter instead.\n",
      "  warnings.warn(\"The min_impurity_split parameter is deprecated. \"\n",
      "/Users/karl/anaconda3/lib/python3.8/site-packages/sklearn/tree/_classes.py:306: FutureWarning: The min_impurity_split parameter is deprecated. Its default value has changed from 1e-7 to 0 in version 0.23, and it will be removed in 0.25. Use the min_impurity_decrease parameter instead.\n",
      "  warnings.warn(\"The min_impurity_split parameter is deprecated. \"\n",
      "/Users/karl/anaconda3/lib/python3.8/site-packages/sklearn/tree/_classes.py:306: FutureWarning: The min_impurity_split parameter is deprecated. Its default value has changed from 1e-7 to 0 in version 0.23, and it will be removed in 0.25. Use the min_impurity_decrease parameter instead.\n",
      "  warnings.warn(\"The min_impurity_split parameter is deprecated. \"\n",
      "/Users/karl/anaconda3/lib/python3.8/site-packages/sklearn/tree/_classes.py:306: FutureWarning: The min_impurity_split parameter is deprecated. Its default value has changed from 1e-7 to 0 in version 0.23, and it will be removed in 0.25. Use the min_impurity_decrease parameter instead.\n",
      "  warnings.warn(\"The min_impurity_split parameter is deprecated. \"\n",
      "/Users/karl/anaconda3/lib/python3.8/site-packages/sklearn/tree/_classes.py:306: FutureWarning: The min_impurity_split parameter is deprecated. Its default value has changed from 1e-7 to 0 in version 0.23, and it will be removed in 0.25. Use the min_impurity_decrease parameter instead.\n",
      "  warnings.warn(\"The min_impurity_split parameter is deprecated. \"\n",
      "/Users/karl/anaconda3/lib/python3.8/site-packages/sklearn/tree/_classes.py:306: FutureWarning: The min_impurity_split parameter is deprecated. Its default value has changed from 1e-7 to 0 in version 0.23, and it will be removed in 0.25. Use the min_impurity_decrease parameter instead.\n",
      "  warnings.warn(\"The min_impurity_split parameter is deprecated. \"\n",
      "/Users/karl/anaconda3/lib/python3.8/site-packages/sklearn/tree/_classes.py:306: FutureWarning: The min_impurity_split parameter is deprecated. Its default value has changed from 1e-7 to 0 in version 0.23, and it will be removed in 0.25. Use the min_impurity_decrease parameter instead.\n",
      "  warnings.warn(\"The min_impurity_split parameter is deprecated. \"\n",
      "/Users/karl/anaconda3/lib/python3.8/site-packages/sklearn/tree/_classes.py:306: FutureWarning: The min_impurity_split parameter is deprecated. Its default value has changed from 1e-7 to 0 in version 0.23, and it will be removed in 0.25. Use the min_impurity_decrease parameter instead.\n",
      "  warnings.warn(\"The min_impurity_split parameter is deprecated. \"\n",
      "/Users/karl/anaconda3/lib/python3.8/site-packages/sklearn/tree/_classes.py:306: FutureWarning: The min_impurity_split parameter is deprecated. Its default value has changed from 1e-7 to 0 in version 0.23, and it will be removed in 0.25. Use the min_impurity_decrease parameter instead.\n",
      "  warnings.warn(\"The min_impurity_split parameter is deprecated. \"\n",
      "/Users/karl/anaconda3/lib/python3.8/site-packages/sklearn/tree/_classes.py:306: FutureWarning: The min_impurity_split parameter is deprecated. Its default value has changed from 1e-7 to 0 in version 0.23, and it will be removed in 0.25. Use the min_impurity_decrease parameter instead.\n",
      "  warnings.warn(\"The min_impurity_split parameter is deprecated. \"\n",
      "/Users/karl/anaconda3/lib/python3.8/site-packages/sklearn/tree/_classes.py:306: FutureWarning: The min_impurity_split parameter is deprecated. Its default value has changed from 1e-7 to 0 in version 0.23, and it will be removed in 0.25. Use the min_impurity_decrease parameter instead.\n",
      "  warnings.warn(\"The min_impurity_split parameter is deprecated. \"\n",
      "/Users/karl/anaconda3/lib/python3.8/site-packages/sklearn/tree/_classes.py:306: FutureWarning: The min_impurity_split parameter is deprecated. Its default value has changed from 1e-7 to 0 in version 0.23, and it will be removed in 0.25. Use the min_impurity_decrease parameter instead.\n",
      "  warnings.warn(\"The min_impurity_split parameter is deprecated. \"\n",
      "/Users/karl/anaconda3/lib/python3.8/site-packages/sklearn/tree/_classes.py:306: FutureWarning: The min_impurity_split parameter is deprecated. Its default value has changed from 1e-7 to 0 in version 0.23, and it will be removed in 0.25. Use the min_impurity_decrease parameter instead.\n",
      "  warnings.warn(\"The min_impurity_split parameter is deprecated. \"\n",
      "/Users/karl/anaconda3/lib/python3.8/site-packages/sklearn/tree/_classes.py:306: FutureWarning: The min_impurity_split parameter is deprecated. Its default value has changed from 1e-7 to 0 in version 0.23, and it will be removed in 0.25. Use the min_impurity_decrease parameter instead.\n",
      "  warnings.warn(\"The min_impurity_split parameter is deprecated. \"\n",
      "/Users/karl/anaconda3/lib/python3.8/site-packages/sklearn/tree/_classes.py:306: FutureWarning: The min_impurity_split parameter is deprecated. Its default value has changed from 1e-7 to 0 in version 0.23, and it will be removed in 0.25. Use the min_impurity_decrease parameter instead.\n",
      "  warnings.warn(\"The min_impurity_split parameter is deprecated. \"\n",
      "/Users/karl/anaconda3/lib/python3.8/site-packages/sklearn/tree/_classes.py:306: FutureWarning: The min_impurity_split parameter is deprecated. Its default value has changed from 1e-7 to 0 in version 0.23, and it will be removed in 0.25. Use the min_impurity_decrease parameter instead.\n",
      "  warnings.warn(\"The min_impurity_split parameter is deprecated. \"\n",
      "/Users/karl/anaconda3/lib/python3.8/site-packages/sklearn/tree/_classes.py:306: FutureWarning: The min_impurity_split parameter is deprecated. Its default value has changed from 1e-7 to 0 in version 0.23, and it will be removed in 0.25. Use the min_impurity_decrease parameter instead.\n",
      "  warnings.warn(\"The min_impurity_split parameter is deprecated. \"\n",
      "/Users/karl/anaconda3/lib/python3.8/site-packages/sklearn/tree/_classes.py:306: FutureWarning: The min_impurity_split parameter is deprecated. Its default value has changed from 1e-7 to 0 in version 0.23, and it will be removed in 0.25. Use the min_impurity_decrease parameter instead.\n",
      "  warnings.warn(\"The min_impurity_split parameter is deprecated. \"\n",
      "/Users/karl/anaconda3/lib/python3.8/site-packages/sklearn/tree/_classes.py:306: FutureWarning: The min_impurity_split parameter is deprecated. Its default value has changed from 1e-7 to 0 in version 0.23, and it will be removed in 0.25. Use the min_impurity_decrease parameter instead.\n",
      "  warnings.warn(\"The min_impurity_split parameter is deprecated. \"\n",
      "/Users/karl/anaconda3/lib/python3.8/site-packages/sklearn/tree/_classes.py:306: FutureWarning: The min_impurity_split parameter is deprecated. Its default value has changed from 1e-7 to 0 in version 0.23, and it will be removed in 0.25. Use the min_impurity_decrease parameter instead.\n",
      "  warnings.warn(\"The min_impurity_split parameter is deprecated. \"\n",
      "/Users/karl/anaconda3/lib/python3.8/site-packages/sklearn/tree/_classes.py:306: FutureWarning: The min_impurity_split parameter is deprecated. Its default value has changed from 1e-7 to 0 in version 0.23, and it will be removed in 0.25. Use the min_impurity_decrease parameter instead.\n",
      "  warnings.warn(\"The min_impurity_split parameter is deprecated. \"\n",
      "/Users/karl/anaconda3/lib/python3.8/site-packages/sklearn/tree/_classes.py:306: FutureWarning: The min_impurity_split parameter is deprecated. Its default value has changed from 1e-7 to 0 in version 0.23, and it will be removed in 0.25. Use the min_impurity_decrease parameter instead.\n",
      "  warnings.warn(\"The min_impurity_split parameter is deprecated. \"\n",
      "/Users/karl/anaconda3/lib/python3.8/site-packages/sklearn/tree/_classes.py:306: FutureWarning: The min_impurity_split parameter is deprecated. Its default value has changed from 1e-7 to 0 in version 0.23, and it will be removed in 0.25. Use the min_impurity_decrease parameter instead.\n",
      "  warnings.warn(\"The min_impurity_split parameter is deprecated. \"\n",
      "/Users/karl/anaconda3/lib/python3.8/site-packages/sklearn/tree/_classes.py:306: FutureWarning: The min_impurity_split parameter is deprecated. Its default value has changed from 1e-7 to 0 in version 0.23, and it will be removed in 0.25. Use the min_impurity_decrease parameter instead.\n",
      "  warnings.warn(\"The min_impurity_split parameter is deprecated. \"\n",
      "/Users/karl/anaconda3/lib/python3.8/site-packages/sklearn/tree/_classes.py:306: FutureWarning: The min_impurity_split parameter is deprecated. Its default value has changed from 1e-7 to 0 in version 0.23, and it will be removed in 0.25. Use the min_impurity_decrease parameter instead.\n",
      "  warnings.warn(\"The min_impurity_split parameter is deprecated. \"\n",
      "/Users/karl/anaconda3/lib/python3.8/site-packages/sklearn/tree/_classes.py:306: FutureWarning: The min_impurity_split parameter is deprecated. Its default value has changed from 1e-7 to 0 in version 0.23, and it will be removed in 0.25. Use the min_impurity_decrease parameter instead.\n",
      "  warnings.warn(\"The min_impurity_split parameter is deprecated. \"\n",
      "/Users/karl/anaconda3/lib/python3.8/site-packages/sklearn/tree/_classes.py:306: FutureWarning: The min_impurity_split parameter is deprecated. Its default value has changed from 1e-7 to 0 in version 0.23, and it will be removed in 0.25. Use the min_impurity_decrease parameter instead.\n",
      "  warnings.warn(\"The min_impurity_split parameter is deprecated. \"\n",
      "/Users/karl/anaconda3/lib/python3.8/site-packages/sklearn/tree/_classes.py:306: FutureWarning: The min_impurity_split parameter is deprecated. Its default value has changed from 1e-7 to 0 in version 0.23, and it will be removed in 0.25. Use the min_impurity_decrease parameter instead.\n",
      "  warnings.warn(\"The min_impurity_split parameter is deprecated. \"\n",
      "/Users/karl/anaconda3/lib/python3.8/site-packages/sklearn/tree/_classes.py:306: FutureWarning: The min_impurity_split parameter is deprecated. Its default value has changed from 1e-7 to 0 in version 0.23, and it will be removed in 0.25. Use the min_impurity_decrease parameter instead.\n",
      "  warnings.warn(\"The min_impurity_split parameter is deprecated. \"\n",
      "/Users/karl/anaconda3/lib/python3.8/site-packages/sklearn/tree/_classes.py:306: FutureWarning: The min_impurity_split parameter is deprecated. Its default value has changed from 1e-7 to 0 in version 0.23, and it will be removed in 0.25. Use the min_impurity_decrease parameter instead.\n",
      "  warnings.warn(\"The min_impurity_split parameter is deprecated. \"\n",
      "/Users/karl/anaconda3/lib/python3.8/site-packages/sklearn/tree/_classes.py:306: FutureWarning: The min_impurity_split parameter is deprecated. Its default value has changed from 1e-7 to 0 in version 0.23, and it will be removed in 0.25. Use the min_impurity_decrease parameter instead.\n",
      "  warnings.warn(\"The min_impurity_split parameter is deprecated. \"\n",
      "/Users/karl/anaconda3/lib/python3.8/site-packages/sklearn/tree/_classes.py:306: FutureWarning: The min_impurity_split parameter is deprecated. Its default value has changed from 1e-7 to 0 in version 0.23, and it will be removed in 0.25. Use the min_impurity_decrease parameter instead.\n",
      "  warnings.warn(\"The min_impurity_split parameter is deprecated. \"\n",
      "/Users/karl/anaconda3/lib/python3.8/site-packages/sklearn/tree/_classes.py:306: FutureWarning: The min_impurity_split parameter is deprecated. Its default value has changed from 1e-7 to 0 in version 0.23, and it will be removed in 0.25. Use the min_impurity_decrease parameter instead.\n",
      "  warnings.warn(\"The min_impurity_split parameter is deprecated. \"\n",
      "/Users/karl/anaconda3/lib/python3.8/site-packages/sklearn/tree/_classes.py:306: FutureWarning: The min_impurity_split parameter is deprecated. Its default value has changed from 1e-7 to 0 in version 0.23, and it will be removed in 0.25. Use the min_impurity_decrease parameter instead.\n",
      "  warnings.warn(\"The min_impurity_split parameter is deprecated. \"\n",
      "/Users/karl/anaconda3/lib/python3.8/site-packages/sklearn/tree/_classes.py:306: FutureWarning: The min_impurity_split parameter is deprecated. Its default value has changed from 1e-7 to 0 in version 0.23, and it will be removed in 0.25. Use the min_impurity_decrease parameter instead.\n",
      "  warnings.warn(\"The min_impurity_split parameter is deprecated. \"\n",
      "/Users/karl/anaconda3/lib/python3.8/site-packages/sklearn/tree/_classes.py:306: FutureWarning: The min_impurity_split parameter is deprecated. Its default value has changed from 1e-7 to 0 in version 0.23, and it will be removed in 0.25. Use the min_impurity_decrease parameter instead.\n",
      "  warnings.warn(\"The min_impurity_split parameter is deprecated. \"\n",
      "/Users/karl/anaconda3/lib/python3.8/site-packages/sklearn/tree/_classes.py:306: FutureWarning: The min_impurity_split parameter is deprecated. Its default value has changed from 1e-7 to 0 in version 0.23, and it will be removed in 0.25. Use the min_impurity_decrease parameter instead.\n",
      "  warnings.warn(\"The min_impurity_split parameter is deprecated. \"\n",
      "/Users/karl/anaconda3/lib/python3.8/site-packages/sklearn/tree/_classes.py:306: FutureWarning: The min_impurity_split parameter is deprecated. Its default value has changed from 1e-7 to 0 in version 0.23, and it will be removed in 0.25. Use the min_impurity_decrease parameter instead.\n",
      "  warnings.warn(\"The min_impurity_split parameter is deprecated. \"\n",
      "/Users/karl/anaconda3/lib/python3.8/site-packages/sklearn/tree/_classes.py:306: FutureWarning: The min_impurity_split parameter is deprecated. Its default value has changed from 1e-7 to 0 in version 0.23, and it will be removed in 0.25. Use the min_impurity_decrease parameter instead.\n",
      "  warnings.warn(\"The min_impurity_split parameter is deprecated. \"\n",
      "/Users/karl/anaconda3/lib/python3.8/site-packages/sklearn/tree/_classes.py:306: FutureWarning: The min_impurity_split parameter is deprecated. Its default value has changed from 1e-7 to 0 in version 0.23, and it will be removed in 0.25. Use the min_impurity_decrease parameter instead.\n",
      "  warnings.warn(\"The min_impurity_split parameter is deprecated. \"\n",
      "/Users/karl/anaconda3/lib/python3.8/site-packages/sklearn/tree/_classes.py:306: FutureWarning: The min_impurity_split parameter is deprecated. Its default value has changed from 1e-7 to 0 in version 0.23, and it will be removed in 0.25. Use the min_impurity_decrease parameter instead.\n",
      "  warnings.warn(\"The min_impurity_split parameter is deprecated. \"\n",
      "/Users/karl/anaconda3/lib/python3.8/site-packages/sklearn/tree/_classes.py:306: FutureWarning: The min_impurity_split parameter is deprecated. Its default value has changed from 1e-7 to 0 in version 0.23, and it will be removed in 0.25. Use the min_impurity_decrease parameter instead.\n",
      "  warnings.warn(\"The min_impurity_split parameter is deprecated. \"\n",
      "/Users/karl/anaconda3/lib/python3.8/site-packages/sklearn/tree/_classes.py:306: FutureWarning: The min_impurity_split parameter is deprecated. Its default value has changed from 1e-7 to 0 in version 0.23, and it will be removed in 0.25. Use the min_impurity_decrease parameter instead.\n",
      "  warnings.warn(\"The min_impurity_split parameter is deprecated. \"\n",
      "/Users/karl/anaconda3/lib/python3.8/site-packages/sklearn/tree/_classes.py:306: FutureWarning: The min_impurity_split parameter is deprecated. Its default value has changed from 1e-7 to 0 in version 0.23, and it will be removed in 0.25. Use the min_impurity_decrease parameter instead.\n",
      "  warnings.warn(\"The min_impurity_split parameter is deprecated. \"\n",
      "/Users/karl/anaconda3/lib/python3.8/site-packages/sklearn/tree/_classes.py:306: FutureWarning: The min_impurity_split parameter is deprecated. Its default value has changed from 1e-7 to 0 in version 0.23, and it will be removed in 0.25. Use the min_impurity_decrease parameter instead.\n",
      "  warnings.warn(\"The min_impurity_split parameter is deprecated. \"\n",
      "/Users/karl/anaconda3/lib/python3.8/site-packages/sklearn/tree/_classes.py:306: FutureWarning: The min_impurity_split parameter is deprecated. Its default value has changed from 1e-7 to 0 in version 0.23, and it will be removed in 0.25. Use the min_impurity_decrease parameter instead.\n",
      "  warnings.warn(\"The min_impurity_split parameter is deprecated. \"\n",
      "/Users/karl/anaconda3/lib/python3.8/site-packages/sklearn/tree/_classes.py:306: FutureWarning: The min_impurity_split parameter is deprecated. Its default value has changed from 1e-7 to 0 in version 0.23, and it will be removed in 0.25. Use the min_impurity_decrease parameter instead.\n",
      "  warnings.warn(\"The min_impurity_split parameter is deprecated. \"\n",
      "/Users/karl/anaconda3/lib/python3.8/site-packages/sklearn/tree/_classes.py:306: FutureWarning: The min_impurity_split parameter is deprecated. Its default value has changed from 1e-7 to 0 in version 0.23, and it will be removed in 0.25. Use the min_impurity_decrease parameter instead.\n",
      "  warnings.warn(\"The min_impurity_split parameter is deprecated. \"\n",
      "/Users/karl/anaconda3/lib/python3.8/site-packages/sklearn/tree/_classes.py:306: FutureWarning: The min_impurity_split parameter is deprecated. Its default value has changed from 1e-7 to 0 in version 0.23, and it will be removed in 0.25. Use the min_impurity_decrease parameter instead.\n",
      "  warnings.warn(\"The min_impurity_split parameter is deprecated. \"\n",
      "/Users/karl/anaconda3/lib/python3.8/site-packages/sklearn/tree/_classes.py:306: FutureWarning: The min_impurity_split parameter is deprecated. Its default value has changed from 1e-7 to 0 in version 0.23, and it will be removed in 0.25. Use the min_impurity_decrease parameter instead.\n",
      "  warnings.warn(\"The min_impurity_split parameter is deprecated. \"\n",
      "/Users/karl/anaconda3/lib/python3.8/site-packages/sklearn/tree/_classes.py:306: FutureWarning: The min_impurity_split parameter is deprecated. Its default value has changed from 1e-7 to 0 in version 0.23, and it will be removed in 0.25. Use the min_impurity_decrease parameter instead.\n",
      "  warnings.warn(\"The min_impurity_split parameter is deprecated. \"\n",
      "/Users/karl/anaconda3/lib/python3.8/site-packages/sklearn/tree/_classes.py:306: FutureWarning: The min_impurity_split parameter is deprecated. Its default value has changed from 1e-7 to 0 in version 0.23, and it will be removed in 0.25. Use the min_impurity_decrease parameter instead.\n",
      "  warnings.warn(\"The min_impurity_split parameter is deprecated. \"\n",
      "/Users/karl/anaconda3/lib/python3.8/site-packages/sklearn/tree/_classes.py:306: FutureWarning: The min_impurity_split parameter is deprecated. Its default value has changed from 1e-7 to 0 in version 0.23, and it will be removed in 0.25. Use the min_impurity_decrease parameter instead.\n",
      "  warnings.warn(\"The min_impurity_split parameter is deprecated. \"\n",
      "/Users/karl/anaconda3/lib/python3.8/site-packages/sklearn/tree/_classes.py:306: FutureWarning: The min_impurity_split parameter is deprecated. Its default value has changed from 1e-7 to 0 in version 0.23, and it will be removed in 0.25. Use the min_impurity_decrease parameter instead.\n",
      "  warnings.warn(\"The min_impurity_split parameter is deprecated. \"\n",
      "Confusion matrix from a GradientBoostingClassifier, with test-score of 0.576\n",
      "\n",
      "                Non-Bankrupt    Bankrupt\n",
      "------------  --------------  ----------\n",
      "Non-Bankrupt            1086          14\n",
      "Bankrupt                  36          46\n"
     ]
    }
   ],
   "source": [
    "gradient_boost = GradientBoostingClassifier(\n",
    "    loss='deviance',\n",
    "    learning_rate=0.1, n_estimators=100,\n",
    "    subsample=1.0, criterion='friedman_mse',\n",
    "    min_samples_split=2,\n",
    "    min_samples_leaf=1,\n",
    "    min_weight_fraction_leaf=0.0,\n",
    "    max_depth=3, min_impurity_split=1e-07,\n",
    "    #init=Null, random_state=Null, max_features=Null,\n",
    "    verbose=0, #max_leaf_nodes=Null,\n",
    "    warm_start=False #, presort='auto'\n",
    ")\n",
    "\n",
    "ml.validate_model(\n",
    "    gradient_boost, \n",
    "    (np.asfortranarray(x_train.to_numpy()), y_train.to_numpy()),\n",
    "    (x_test.to_numpy(), y_test.to_numpy())\n",
    ") ;"
   ]
  },
  {
   "cell_type": "code",
   "execution_count": 2,
   "metadata": {},
   "outputs": [],
   "source": [
    "column_names = ['net profit / total assets','total liabilities / total assets','working capital / total assets','current assets / short-term liabilities','[(cash + short-term securities + receivables - short-term liabilities) / (operating expenses - depreciation)] * 365','retained earnings / total assets','EBIT / total assets','book value of equity / total liabilities','sales / total assets','equity / total assets','(gross profit + extraordinary items + financial expenses) / total assets','gross profit / short-term liabilities','(gross profit + depreciation) / sales','(gross profit + interest) / total assets','(total liabilities * 365) / (gross profit + depreciation)','(gross profit + depreciation) / total liabilities','total assets / total liabilities','gross profit / total assets','gross profit / sales','(inventory * 365) / sales','sales (n) / sales (n-1)','profit on operating activities / total assets','net profit / sales','gross profit (in 3 years) / total assets','(equity - share capital) / total assets','(net profit + depreciation) / total liabilities','profit on operating activities / financial expenses','working capital / fixed assets','logarithm of total assets','(total liabilities - cash) / sales','(gross profit + interest) / sales','(current liabilities * 365) / cost of products sold','operating expenses / short-term liabilities','operating expenses / total liabilities','profit on sales / total assets','total sales / total assets','(current assets - inventories) / long-term liabilities','constant capital / total assets','profit on sales / sales','(current assets - inventory - receivables) / short-term liabilities','total liabilities / ((profit on operating activities + depreciation) * (12/365))','profit on operating activities / sales','rotation receivables + inventory turnover in days','(receivables * 365) / sales','net profit / inventory','(current assets - inventory) / short-term liabilities','(inventory * 365) / cost of products sold','EBITDA (profit on operating activities - depreciation) / total assets','EBITDA (profit on operating activities - depreciation) / sales','current assets / total liabilities','short-term liabilities / total assets','(short-term liabilities * 365) / cost of products sold)','equity / fixed assets','constant capital / fixed assets','working capital','(sales - cost of products sold) / sales','(current assets - inventory - short-term liabilities) / (sales - gross profit - depreciation)','total costs /total sales','long-term liabilities / equity','sales / inventory','sales / receivables','(short-term liabilities *365) / sales','sales / short-term liabilities','sales / fixed assets']"
   ]
  },
  {
   "cell_type": "code",
   "execution_count": 3,
   "metadata": {},
   "outputs": [],
   "source": [
    "X01 =  ['net profit / total assets']\n",
    "X02 =  ['total liabilities / total assets']\n",
    "X03 =  ['working capital / total assets']\n",
    "X04 =  ['current assets / short-term liabilities']\n",
    "X05 =  ['[(cash + short-term securities + receivables - short-term liabilities) / (operating expenses - depreciation)] * 365']\n",
    "X06 =  ['retained earnings / total assets']\n",
    "X07 =  ['EBIT / total assets']\n",
    "X08 =  ['book value of equity / total liabilities']\n",
    "X09 =  ['sales / total assets']\n",
    "X10 =  ['equity / total assets']\n",
    "X11 =  ['(gross profit + extraordinary items + financial expenses) / total assets']\n",
    "X12 =  ['gross profit / short-term liabilities']\n",
    "X13 =  ['(gross profit + depreciation) / sales']\n",
    "X14 =  ['(gross profit + interest) / total assets']\n",
    "X15 =  ['(total liabilities * 365) / (gross profit + depreciation)']\n",
    "X16 =  ['(gross profit + depreciation) / total liabilities']\n",
    "X17 =  ['total assets / total liabilities']\n",
    "X18 =  ['gross profit / total assets']\n",
    "X19 =  ['gross profit / sales']\n",
    "X20 =  ['(inventory * 365) / sales']\n",
    "X21 =  ['sales (n) / sales (n-1)']\n",
    "X22 =  ['profit on operating activities / total assets']\n",
    "X23 =  ['net profit / sales']\n",
    "X24 =  ['gross profit (in 3 years) / total assets']\n",
    "X25 =  ['(equity - share capital) / total assets']\n",
    "X26 =  ['(net profit + depreciation) / total liabilities']\n",
    "X27 =  ['profit on operating activities / financial expenses']\n",
    "X28 =  ['working capital / fixed assets']\n",
    "X29 =  ['logarithm of total assets']\n",
    "X30 =  ['(total liabilities - cash) / sales']\n",
    "X31 =  ['(gross profit + interest) / sales']\n",
    "X32 =  ['(current liabilities * 365) / cost of products sold']\n",
    "X33 =  ['operating expenses / short-term liabilities']\n",
    "X34 =  ['operating expenses / total liabilities']\n",
    "X35 =  ['profit on sales / total assets']\n",
    "X36 =  ['total sales / total assets']\n",
    "X37 =  ['(current assets - inventories) / long-term liabilities']\n",
    "X38 =  ['constant capital / total assets']\n",
    "X39 =  ['profit on sales / sales']\n",
    "X40 =  ['(current assets - inventory - receivables) / short-term liabilities']\n",
    "X41 =  ['total liabilities / ((profit on operating activities + depreciation) * (12/365))']\n",
    "X42 =  ['profit on operating activities / sales']\n",
    "X43 =  ['rotation receivables + inventory turnover in days']\n",
    "X44 =  ['(receivables * 365) / sales']\n",
    "X45 =  ['net profit / inventory']\n",
    "X46 =  ['(current assets - inventory) / short-term liabilities']\n",
    "X47 =  ['(inventory * 365) / cost of products sold']\n",
    "X48 =  ['EBITDA (profit on operating activities - depreciation) / total assets']\n",
    "X49 =  ['EBITDA (profit on operating activities - depreciation) / sales']\n",
    "X50 =  ['current assets / total liabilities']\n",
    "X51 =  ['short-term liabilities / total assets']\n",
    "X52 =  ['(short-term liabilities * 365) / cost of products sold)']\n",
    "X53 =  ['equity / fixed assets']\n",
    "X54 =  ['constant capital / fixed assets']\n",
    "X55 =  ['working capital']\n",
    "X56 =  ['(sales - cost of products sold) / sales']\n",
    "X57 =  ['(current assets - inventory - short-term liabilities) / (sales - gross profit - depreciation)']\n",
    "X58 =  ['total costs /total sales']\n",
    "X59 =  ['long-term liabilities / equity']\n",
    "X60 =  ['sales / inventory']\n",
    "X61 =  ['sales / receivables']\n",
    "X62 =  ['(short-term liabilities *365) / sales']\n",
    "X63 =  ['sales / short-term liabilities']\n",
    "X64 =  ['sales / fixed assets']"
   ]
  },
  {
   "cell_type": "code",
   "execution_count": null,
   "metadata": {},
   "outputs": [],
   "source": []
  }
 ],
 "metadata": {
  "kernelspec": {
   "name": "python383jvsc74a57bd0b5806dc0e8395af2278a83b10faec683de35099ebc749f75874e48097d605efb",
   "display_name": "Python 3.8.3 64-bit ('base': conda)"
  },
  "language_info": {
   "codemirror_mode": {
    "name": "ipython",
    "version": 3
   },
   "file_extension": ".py",
   "mimetype": "text/x-python",
   "name": "python",
   "nbconvert_exporter": "python",
   "pygments_lexer": "ipython3",
   "version": "3.8.3"
  }
 },
 "nbformat": 4,
 "nbformat_minor": 4
}