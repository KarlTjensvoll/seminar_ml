{
 "metadata": {
  "language_info": {
   "codemirror_mode": {
    "name": "ipython",
    "version": 3
   },
   "file_extension": ".py",
   "mimetype": "text/x-python",
   "name": "python",
   "nbconvert_exporter": "python",
   "pygments_lexer": "ipython3",
   "version": "3.8.3-final"
  },
  "orig_nbformat": 2,
  "kernelspec": {
   "name": "python3",
   "display_name": "Python 3.8.3 64-bit ('base': conda)",
   "metadata": {
    "interpreter": {
     "hash": "b5806dc0e8395af2278a83b10faec683de35099ebc749f75874e48097d605efb"
    }
   }
  }
 },
 "nbformat": 4,
 "nbformat_minor": 2,
 "cells": [
  {
   "cell_type": "code",
   "execution_count": 1,
   "metadata": {},
   "outputs": [],
   "source": [
    "import data_handler\n",
    "import machine_learning as ml\n",
    "import pandas as pd\n",
    "import numpy as np\n",
    "\n",
    "from sklearn import linear_model as linear\n",
    "from sklearn import model_selection\n",
    "from sklearn import metrics\n",
    "\n",
    "from tabulate import tabulate\n",
    "\n",
    "# These are notebook magix that reloads a function each time, so if I make a change in a .py file, it is automatically reloaded.\n",
    "%load_ext autoreload\n",
    "%autoreload 2"
   ]
  },
  {
   "source": [
    "## YOU NEED TO FIRST RUN THE TWO LAST CELLS. I HID THEM THERE SO THAT THEY DON'T USE SO MUCH SPACE."
   ],
   "cell_type": "markdown",
   "metadata": {}
  },
  {
   "cell_type": "code",
   "execution_count": 4,
   "metadata": {},
   "outputs": [],
   "source": [
    "def ohlson_data(year, column_names):\n",
    "    x_train, x_test, y_train, y_test = data_handler.load_data(year)\n",
    "    n = y_train.size\n",
    "    x_train.columns = column_names\n",
    "    x_test.columns = column_names\n",
    "\n",
    "    # Ohlson use a dummy if liabilites are greater than assets\n",
    "    x_train['liabilites > assets'] = (x_train[X02] > 1)*1.0\n",
    "    x_test['liabilites > assets'] = (x_test[X02] > 1)*1.0\n",
    "    X65 = ['liabilites > assets']\n",
    "\n",
    "    # Try to replicate the variables as closely as possible,\n",
    "    # some of the variables are inverted, but that should not affect\n",
    "    # the predictability, only the sign of the coefficient.\n",
    "    ohlson_var = X29 + X02 + X03 + X04 + X65 + X01 + X41 + X21\n",
    "    x_ohlson_train = x_train[ohlson_var]\n",
    "    x_ohlson_test = x_test[ohlson_var]\n",
    "    return x_ohlson_train, x_ohlson_test, y_train, y_test\n",
    "x_train, x_test, y_train, y_test = ohlson_data(5, column_names)"
   ]
  },
  {
   "cell_type": "code",
   "execution_count": 11,
   "metadata": {},
   "outputs": [
    {
     "output_type": "stream",
     "name": "stdout",
     "text": [
      "Confusion matrix from a LogisticRegression, with test-score of 0.087\n\n                Non-Bankrupt    Bankrupt\n------------  --------------  ----------\nNon-Bankrupt            1351           1\nBankrupt                  54           0\n"
     ]
    }
   ],
   "source": [
    "logit = linear.LogisticRegression(penalty='none', max_iter=1000)\n",
    "ml.validate_model(logit, (x_train, y_train), (x_test, y_test)) ;"
   ]
  },
  {
   "cell_type": "code",
   "execution_count": 13,
   "metadata": {},
   "outputs": [
    {
     "output_type": "stream",
     "name": "stderr",
     "text": [
      "/Users/karl/anaconda3/lib/python3.8/site-packages/sklearn/linear_model/_sag.py:329: ConvergenceWarning: The max_iter was reached which means the coef_ did not converge\n",
      "  warnings.warn(\"The max_iter was reached which means \"\n",
      "/Users/karl/anaconda3/lib/python3.8/site-packages/sklearn/linear_model/_sag.py:329: ConvergenceWarning: The max_iter was reached which means the coef_ did not converge\n",
      "  warnings.warn(\"The max_iter was reached which means \"\n",
      "/Users/karl/anaconda3/lib/python3.8/site-packages/sklearn/linear_model/_sag.py:329: ConvergenceWarning: The max_iter was reached which means the coef_ did not converge\n",
      "  warnings.warn(\"The max_iter was reached which means \"\n",
      "/Users/karl/anaconda3/lib/python3.8/site-packages/sklearn/linear_model/_sag.py:329: ConvergenceWarning: The max_iter was reached which means the coef_ did not converge\n",
      "  warnings.warn(\"The max_iter was reached which means \"\n",
      "/Users/karl/anaconda3/lib/python3.8/site-packages/sklearn/linear_model/_sag.py:329: ConvergenceWarning: The max_iter was reached which means the coef_ did not converge\n",
      "  warnings.warn(\"The max_iter was reached which means \"\n",
      "/Users/karl/anaconda3/lib/python3.8/site-packages/sklearn/linear_model/_sag.py:329: ConvergenceWarning: The max_iter was reached which means the coef_ did not converge\n",
      "  warnings.warn(\"The max_iter was reached which means \"\n",
      "/Users/karl/anaconda3/lib/python3.8/site-packages/sklearn/linear_model/_sag.py:329: ConvergenceWarning: The max_iter was reached which means the coef_ did not converge\n",
      "  warnings.warn(\"The max_iter was reached which means \"\n",
      "/Users/karl/anaconda3/lib/python3.8/site-packages/sklearn/linear_model/_sag.py:329: ConvergenceWarning: The max_iter was reached which means the coef_ did not converge\n",
      "  warnings.warn(\"The max_iter was reached which means \"\n",
      "Confusion matrix from a LogisticRegression, with test-score of 0.087\n",
      "\n",
      "                Non-Bankrupt    Bankrupt\n",
      "------------  --------------  ----------\n",
      "Non-Bankrupt            1352           0\n",
      "Bankrupt                  53           1\n",
      "/Users/karl/anaconda3/lib/python3.8/site-packages/sklearn/linear_model/_sag.py:329: ConvergenceWarning: The max_iter was reached which means the coef_ did not converge\n",
      "  warnings.warn(\"The max_iter was reached which means \"\n"
     ]
    }
   ],
   "source": [
    "x_train, x_test, y_train, y_test = data_handler.load_data(1)\n",
    "logit_elastic_net = linear.LogisticRegression(\n",
    "    penalty='elasticnet', \n",
    "    solver='saga',\n",
    "    max_iter=5000,\n",
    "    l1_ratio=0.1\n",
    ")\n",
    "ml.validate_model(\n",
    "    logit_elastic_net, \n",
    "    (np.asfortranarray(x_train.to_numpy()), y_train.to_numpy()),\n",
    "    (x_test.to_numpy(), y_test.to_numpy())\n",
    ") ;"
   ]
  },
  {
   "cell_type": "code",
   "execution_count": 2,
   "metadata": {},
   "outputs": [],
   "source": [
    "column_names = ['net profit / total assets','total liabilities / total assets','working capital / total assets','current assets / short-term liabilities','[(cash + short-term securities + receivables - short-term liabilities) / (operating expenses - depreciation)] * 365','retained earnings / total assets','EBIT / total assets','book value of equity / total liabilities','sales / total assets','equity / total assets','(gross profit + extraordinary items + financial expenses) / total assets','gross profit / short-term liabilities','(gross profit + depreciation) / sales','(gross profit + interest) / total assets','(total liabilities * 365) / (gross profit + depreciation)','(gross profit + depreciation) / total liabilities','total assets / total liabilities','gross profit / total assets','gross profit / sales','(inventory * 365) / sales','sales (n) / sales (n-1)','profit on operating activities / total assets','net profit / sales','gross profit (in 3 years) / total assets','(equity - share capital) / total assets','(net profit + depreciation) / total liabilities','profit on operating activities / financial expenses','working capital / fixed assets','logarithm of total assets','(total liabilities - cash) / sales','(gross profit + interest) / sales','(current liabilities * 365) / cost of products sold','operating expenses / short-term liabilities','operating expenses / total liabilities','profit on sales / total assets','total sales / total assets','(current assets - inventories) / long-term liabilities','constant capital / total assets','profit on sales / sales','(current assets - inventory - receivables) / short-term liabilities','total liabilities / ((profit on operating activities + depreciation) * (12/365))','profit on operating activities / sales','rotation receivables + inventory turnover in days','(receivables * 365) / sales','net profit / inventory','(current assets - inventory) / short-term liabilities','(inventory * 365) / cost of products sold','EBITDA (profit on operating activities - depreciation) / total assets','EBITDA (profit on operating activities - depreciation) / sales','current assets / total liabilities','short-term liabilities / total assets','(short-term liabilities * 365) / cost of products sold)','equity / fixed assets','constant capital / fixed assets','working capital','(sales - cost of products sold) / sales','(current assets - inventory - short-term liabilities) / (sales - gross profit - depreciation)','total costs /total sales','long-term liabilities / equity','sales / inventory','sales / receivables','(short-term liabilities *365) / sales','sales / short-term liabilities','sales / fixed assets']"
   ]
  },
  {
   "cell_type": "code",
   "execution_count": 3,
   "metadata": {},
   "outputs": [],
   "source": [
    "X01 =  ['net profit / total assets']\n",
    "X02 =  ['total liabilities / total assets']\n",
    "X03 =  ['working capital / total assets']\n",
    "X04 =  ['current assets / short-term liabilities']\n",
    "X05 =  ['[(cash + short-term securities + receivables - short-term liabilities) / (operating expenses - depreciation)] * 365']\n",
    "X06 =  ['retained earnings / total assets']\n",
    "X07 =  ['EBIT / total assets']\n",
    "X08 =  ['book value of equity / total liabilities']\n",
    "X09 =  ['sales / total assets']\n",
    "X10 =  ['equity / total assets']\n",
    "X11 =  ['(gross profit + extraordinary items + financial expenses) / total assets']\n",
    "X12 =  ['gross profit / short-term liabilities']\n",
    "X13 =  ['(gross profit + depreciation) / sales']\n",
    "X14 =  ['(gross profit + interest) / total assets']\n",
    "X15 =  ['(total liabilities * 365) / (gross profit + depreciation)']\n",
    "X16 =  ['(gross profit + depreciation) / total liabilities']\n",
    "X17 =  ['total assets / total liabilities']\n",
    "X18 =  ['gross profit / total assets']\n",
    "X19 =  ['gross profit / sales']\n",
    "X20 =  ['(inventory * 365) / sales']\n",
    "X21 =  ['sales (n) / sales (n-1)']\n",
    "X22 =  ['profit on operating activities / total assets']\n",
    "X23 =  ['net profit / sales']\n",
    "X24 =  ['gross profit (in 3 years) / total assets']\n",
    "X25 =  ['(equity - share capital) / total assets']\n",
    "X26 =  ['(net profit + depreciation) / total liabilities']\n",
    "X27 =  ['profit on operating activities / financial expenses']\n",
    "X28 =  ['working capital / fixed assets']\n",
    "X29 =  ['logarithm of total assets']\n",
    "X30 =  ['(total liabilities - cash) / sales']\n",
    "X31 =  ['(gross profit + interest) / sales']\n",
    "X32 =  ['(current liabilities * 365) / cost of products sold']\n",
    "X33 =  ['operating expenses / short-term liabilities']\n",
    "X34 =  ['operating expenses / total liabilities']\n",
    "X35 =  ['profit on sales / total assets']\n",
    "X36 =  ['total sales / total assets']\n",
    "X37 =  ['(current assets - inventories) / long-term liabilities']\n",
    "X38 =  ['constant capital / total assets']\n",
    "X39 =  ['profit on sales / sales']\n",
    "X40 =  ['(current assets - inventory - receivables) / short-term liabilities']\n",
    "X41 =  ['total liabilities / ((profit on operating activities + depreciation) * (12/365))']\n",
    "X42 =  ['profit on operating activities / sales']\n",
    "X43 =  ['rotation receivables + inventory turnover in days']\n",
    "X44 =  ['(receivables * 365) / sales']\n",
    "X45 =  ['net profit / inventory']\n",
    "X46 =  ['(current assets - inventory) / short-term liabilities']\n",
    "X47 =  ['(inventory * 365) / cost of products sold']\n",
    "X48 =  ['EBITDA (profit on operating activities - depreciation) / total assets']\n",
    "X49 =  ['EBITDA (profit on operating activities - depreciation) / sales']\n",
    "X50 =  ['current assets / total liabilities']\n",
    "X51 =  ['short-term liabilities / total assets']\n",
    "X52 =  ['(short-term liabilities * 365) / cost of products sold)']\n",
    "X53 =  ['equity / fixed assets']\n",
    "X54 =  ['constant capital / fixed assets']\n",
    "X55 =  ['working capital']\n",
    "X56 =  ['(sales - cost of products sold) / sales']\n",
    "X57 =  ['(current assets - inventory - short-term liabilities) / (sales - gross profit - depreciation)']\n",
    "X58 =  ['total costs /total sales']\n",
    "X59 =  ['long-term liabilities / equity']\n",
    "X60 =  ['sales / inventory']\n",
    "X61 =  ['sales / receivables']\n",
    "X62 =  ['(short-term liabilities *365) / sales']\n",
    "X63 =  ['sales / short-term liabilities']\n",
    "X64 =  ['sales / fixed assets']"
   ]
  },
  {
   "cell_type": "code",
   "execution_count": null,
   "metadata": {},
   "outputs": [],
   "source": []
  }
 ]
}