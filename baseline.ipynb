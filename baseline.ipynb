{
 "cells": [
  {
   "cell_type": "markdown",
   "metadata": {},
   "source": [
    "# My seminar - Applications of Machine Learning in Economics\n",
    "### This notebook implements our baseline models using MDA as proposed by Altman (1968) and logit analysis as used by Ohlson (1980)\n"
   ]
  },
  {
   "cell_type": "markdown",
   "metadata": {},
   "source": [
    "Importing packages"
   ]
  },
  {
   "cell_type": "code",
   "execution_count": 28,
   "metadata": {},
   "outputs": [],
   "source": [
    "# common\n",
    "import pandas as pd\n",
    "import numpy as np\n",
    "import os\n",
    "\n",
    "# imputation\n",
    "from sklearn.experimental import enable_iterative_imputer\n",
    "from sklearn.impute import SimpleImputer, IterativeImputer\n",
    "\n",
    "from functions import load_data\n",
    "from sklearn import model_selection\n",
    "from sklearn.discriminant_analysis import LinearDiscriminantAnalysis  # can we use this for Altman?\n",
    "# https://python-for-multivariate-analysis.readthedocs.io/a_little_book_of_python_for_multivariate_analysis.html#linear-discriminant-analysis"
   ]
  },
  {
   "cell_type": "code",
   "execution_count": 35,
   "metadata": {},
   "outputs": [],
   "source": [
    "x = pd.read_csv('data/train/x_5year.txt',delimiter=',',index_col=0)\n",
    "y = pd.read_csv('data/train/y_5year.txt',delimiter=',',index_col=0)\n",
    "# alternatively, if we want to tweak the settings for creating dataset on the fly\n",
    "# x_train, y_train, _, _ = load_data(year = 5, share = 0.2, shuffle = True, seed = 418409376)"
   ]
  },
  {
   "cell_type": "markdown",
   "metadata": {},
   "source": [
    "First, we implement a multivariate discriminant analysis using sklearn.\n",
    "Altman (1968) uses 5 features: X1 (Working Capital / Total Assets); X2 (Retained Earnings/Total Assets); X3 (Earnings Before Interest and Taxes/Total Assets); X4 (Market Value of Equity/Book Value of Total Debt) and X5 (Sales/Total Assets). These correspond to X3, X6, X7, ??? and X9 respectively. Looks like we have to find something similar to X4 in Altman."
   ]
  },
  {
   "cell_type": "code",
   "execution_count": 26,
   "metadata": {},
   "outputs": [],
   "source": [
    "# first we need to impute data\n",
    "# this function should ideally contain various imputation options and be put into functions.py\n",
    "# here, I just used the IterativeImputer for multivariate feature imputation\n",
    "\n",
    "#def impute_data(df,strategy:str,indicator:bool):\n",
    "#    \"\"\" \n",
    "#    This function takes as input the strategy for imputation and wether an indicator matrix of missing values should be stacked onto the transformed matrix\n",
    "#    Strategies for imputation include: \"mean\", \"median\", KNN\n",
    "#    \"\"\"\n",
    "    \n",
    "imp = IterativeImputer(max_iter=10, random_state=0)\n",
    "x_train_imputed = pd.DataFrame(imp.fit_transform(x_train))\n",
    "x_train_imputed.columns = x_train.columns\n",
    "x_train_imputed.index = x_train.index\n",
    "\n",
    "X = x_train_imputed[['v3','v6','v7','v9']]"
   ]
  },
  {
   "cell_type": "code",
   "execution_count": 27,
   "metadata": {},
   "outputs": [],
   "source": [
    "lda = LinearDiscriminantAnalysis().fit(X, y_train)"
   ]
  },
  {
   "cell_type": "code",
   "execution_count": null,
   "metadata": {},
   "outputs": [],
   "source": [
    "def pretty_scalings(lda, X, out=False):\n",
    "    ret = pd.DataFrame(lda.scalings_, index=X.columns, columns=[\"LD\"+str(i+1) for i in range(lda.scalings_.shape[1])])\n",
    "    if out:\n",
    "        print(\"Coefficients of linear discriminants:\")\n",
    "        display(ret)\n",
    "    return ret\n",
    "\n",
    "pretty_scalings_ = pretty_scalings(lda, X, out=True)"
   ]
  }
 ],
 "metadata": {
  "kernelspec": {
   "display_name": "Python 3",
   "language": "python",
   "name": "python3"
  },
  "language_info": {
   "codemirror_mode": {
    "name": "ipython",
    "version": 3
   },
   "file_extension": ".py",
   "mimetype": "text/x-python",
   "name": "python",
   "nbconvert_exporter": "python",
   "pygments_lexer": "ipython3",
   "version": "3.7.4"
  }
 },
 "nbformat": 4,
 "nbformat_minor": 4
}
